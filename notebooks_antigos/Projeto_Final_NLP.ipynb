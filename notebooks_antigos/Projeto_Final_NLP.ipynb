{
  "nbformat": 4,
  "nbformat_minor": 0,
  "metadata": {
    "colab": {
      "name": "Trabalho_Final_NLP_Elisangela_Priscila.ipynb",
      "provenance": [],
      "collapsed_sections": []
    },
    "kernelspec": {
      "name": "python3",
      "display_name": "Python 3"
    },
    "widgets": {
      "application/vnd.jupyter.widget-state+json": {
        "78db52d73f224ebea43c9b5817a21a9c": {
          "model_module": "@jupyter-widgets/controls",
          "model_name": "HBoxModel",
          "state": {
            "_view_name": "HBoxView",
            "_dom_classes": [],
            "_model_name": "HBoxModel",
            "_view_module": "@jupyter-widgets/controls",
            "_model_module_version": "1.5.0",
            "_view_count": null,
            "_view_module_version": "1.5.0",
            "box_style": "",
            "layout": "IPY_MODEL_72d005f900094cd7bc7ac7489dffc435",
            "_model_module": "@jupyter-widgets/controls",
            "children": [
              "IPY_MODEL_892b63b7810a4e288c51ec4225c6b4bd",
              "IPY_MODEL_91c6a1ffa504427cbd3352081da800fe"
            ]
          }
        },
        "72d005f900094cd7bc7ac7489dffc435": {
          "model_module": "@jupyter-widgets/base",
          "model_name": "LayoutModel",
          "state": {
            "_view_name": "LayoutView",
            "grid_template_rows": null,
            "right": null,
            "justify_content": null,
            "_view_module": "@jupyter-widgets/base",
            "overflow": null,
            "_model_module_version": "1.2.0",
            "_view_count": null,
            "flex_flow": null,
            "width": null,
            "min_width": null,
            "border": null,
            "align_items": null,
            "bottom": null,
            "_model_module": "@jupyter-widgets/base",
            "top": null,
            "grid_column": null,
            "overflow_y": null,
            "overflow_x": null,
            "grid_auto_flow": null,
            "grid_area": null,
            "grid_template_columns": null,
            "flex": null,
            "_model_name": "LayoutModel",
            "justify_items": null,
            "grid_row": null,
            "max_height": null,
            "align_content": null,
            "visibility": null,
            "align_self": null,
            "height": null,
            "min_height": null,
            "padding": null,
            "grid_auto_rows": null,
            "grid_gap": null,
            "max_width": null,
            "order": null,
            "_view_module_version": "1.2.0",
            "grid_template_areas": null,
            "object_position": null,
            "object_fit": null,
            "grid_auto_columns": null,
            "margin": null,
            "display": null,
            "left": null
          }
        },
        "892b63b7810a4e288c51ec4225c6b4bd": {
          "model_module": "@jupyter-widgets/controls",
          "model_name": "FloatProgressModel",
          "state": {
            "_view_name": "ProgressView",
            "style": "IPY_MODEL_be345e3670db443a841be368f45550d6",
            "_dom_classes": [],
            "description": "100%",
            "_model_name": "FloatProgressModel",
            "bar_style": "success",
            "max": 1470,
            "_view_module": "@jupyter-widgets/controls",
            "_model_module_version": "1.5.0",
            "value": 1470,
            "_view_count": null,
            "_view_module_version": "1.5.0",
            "orientation": "horizontal",
            "min": 0,
            "description_tooltip": null,
            "_model_module": "@jupyter-widgets/controls",
            "layout": "IPY_MODEL_ac8f629537e64b91be14f6ab412393a6"
          }
        },
        "91c6a1ffa504427cbd3352081da800fe": {
          "model_module": "@jupyter-widgets/controls",
          "model_name": "HTMLModel",
          "state": {
            "_view_name": "HTMLView",
            "style": "IPY_MODEL_cbe459258946443286d6bd572629cec3",
            "_dom_classes": [],
            "description": "",
            "_model_name": "HTMLModel",
            "placeholder": "​",
            "_view_module": "@jupyter-widgets/controls",
            "_model_module_version": "1.5.0",
            "value": " 1470/1470 [00:00&lt;00:00, 5834.78it/s]",
            "_view_count": null,
            "_view_module_version": "1.5.0",
            "description_tooltip": null,
            "_model_module": "@jupyter-widgets/controls",
            "layout": "IPY_MODEL_3bc7c398327c4a518fe0c2e4e90d15d6"
          }
        },
        "be345e3670db443a841be368f45550d6": {
          "model_module": "@jupyter-widgets/controls",
          "model_name": "ProgressStyleModel",
          "state": {
            "_view_name": "StyleView",
            "_model_name": "ProgressStyleModel",
            "description_width": "initial",
            "_view_module": "@jupyter-widgets/base",
            "_model_module_version": "1.5.0",
            "_view_count": null,
            "_view_module_version": "1.2.0",
            "bar_color": null,
            "_model_module": "@jupyter-widgets/controls"
          }
        },
        "ac8f629537e64b91be14f6ab412393a6": {
          "model_module": "@jupyter-widgets/base",
          "model_name": "LayoutModel",
          "state": {
            "_view_name": "LayoutView",
            "grid_template_rows": null,
            "right": null,
            "justify_content": null,
            "_view_module": "@jupyter-widgets/base",
            "overflow": null,
            "_model_module_version": "1.2.0",
            "_view_count": null,
            "flex_flow": null,
            "width": null,
            "min_width": null,
            "border": null,
            "align_items": null,
            "bottom": null,
            "_model_module": "@jupyter-widgets/base",
            "top": null,
            "grid_column": null,
            "overflow_y": null,
            "overflow_x": null,
            "grid_auto_flow": null,
            "grid_area": null,
            "grid_template_columns": null,
            "flex": null,
            "_model_name": "LayoutModel",
            "justify_items": null,
            "grid_row": null,
            "max_height": null,
            "align_content": null,
            "visibility": null,
            "align_self": null,
            "height": null,
            "min_height": null,
            "padding": null,
            "grid_auto_rows": null,
            "grid_gap": null,
            "max_width": null,
            "order": null,
            "_view_module_version": "1.2.0",
            "grid_template_areas": null,
            "object_position": null,
            "object_fit": null,
            "grid_auto_columns": null,
            "margin": null,
            "display": null,
            "left": null
          }
        },
        "cbe459258946443286d6bd572629cec3": {
          "model_module": "@jupyter-widgets/controls",
          "model_name": "DescriptionStyleModel",
          "state": {
            "_view_name": "StyleView",
            "_model_name": "DescriptionStyleModel",
            "description_width": "",
            "_view_module": "@jupyter-widgets/base",
            "_model_module_version": "1.5.0",
            "_view_count": null,
            "_view_module_version": "1.2.0",
            "_model_module": "@jupyter-widgets/controls"
          }
        },
        "3bc7c398327c4a518fe0c2e4e90d15d6": {
          "model_module": "@jupyter-widgets/base",
          "model_name": "LayoutModel",
          "state": {
            "_view_name": "LayoutView",
            "grid_template_rows": null,
            "right": null,
            "justify_content": null,
            "_view_module": "@jupyter-widgets/base",
            "overflow": null,
            "_model_module_version": "1.2.0",
            "_view_count": null,
            "flex_flow": null,
            "width": null,
            "min_width": null,
            "border": null,
            "align_items": null,
            "bottom": null,
            "_model_module": "@jupyter-widgets/base",
            "top": null,
            "grid_column": null,
            "overflow_y": null,
            "overflow_x": null,
            "grid_auto_flow": null,
            "grid_area": null,
            "grid_template_columns": null,
            "flex": null,
            "_model_name": "LayoutModel",
            "justify_items": null,
            "grid_row": null,
            "max_height": null,
            "align_content": null,
            "visibility": null,
            "align_self": null,
            "height": null,
            "min_height": null,
            "padding": null,
            "grid_auto_rows": null,
            "grid_gap": null,
            "max_width": null,
            "order": null,
            "_view_module_version": "1.2.0",
            "grid_template_areas": null,
            "object_position": null,
            "object_fit": null,
            "grid_auto_columns": null,
            "margin": null,
            "display": null,
            "left": null
          }
        },
        "49c63bd55c014e35a76116c1dca091c1": {
          "model_module": "@jupyter-widgets/controls",
          "model_name": "HBoxModel",
          "state": {
            "_view_name": "HBoxView",
            "_dom_classes": [],
            "_model_name": "HBoxModel",
            "_view_module": "@jupyter-widgets/controls",
            "_model_module_version": "1.5.0",
            "_view_count": null,
            "_view_module_version": "1.5.0",
            "box_style": "",
            "layout": "IPY_MODEL_78c2e1c87e56451f9cfce6803a3a57c2",
            "_model_module": "@jupyter-widgets/controls",
            "children": [
              "IPY_MODEL_2c175b58c1834fd4b59cca7059aba5f8",
              "IPY_MODEL_66d37005c11b4c3aa7e1e181892f0357"
            ]
          }
        },
        "78c2e1c87e56451f9cfce6803a3a57c2": {
          "model_module": "@jupyter-widgets/base",
          "model_name": "LayoutModel",
          "state": {
            "_view_name": "LayoutView",
            "grid_template_rows": null,
            "right": null,
            "justify_content": null,
            "_view_module": "@jupyter-widgets/base",
            "overflow": null,
            "_model_module_version": "1.2.0",
            "_view_count": null,
            "flex_flow": null,
            "width": null,
            "min_width": null,
            "border": null,
            "align_items": null,
            "bottom": null,
            "_model_module": "@jupyter-widgets/base",
            "top": null,
            "grid_column": null,
            "overflow_y": null,
            "overflow_x": null,
            "grid_auto_flow": null,
            "grid_area": null,
            "grid_template_columns": null,
            "flex": null,
            "_model_name": "LayoutModel",
            "justify_items": null,
            "grid_row": null,
            "max_height": null,
            "align_content": null,
            "visibility": null,
            "align_self": null,
            "height": null,
            "min_height": null,
            "padding": null,
            "grid_auto_rows": null,
            "grid_gap": null,
            "max_width": null,
            "order": null,
            "_view_module_version": "1.2.0",
            "grid_template_areas": null,
            "object_position": null,
            "object_fit": null,
            "grid_auto_columns": null,
            "margin": null,
            "display": null,
            "left": null
          }
        },
        "2c175b58c1834fd4b59cca7059aba5f8": {
          "model_module": "@jupyter-widgets/controls",
          "model_name": "FloatProgressModel",
          "state": {
            "_view_name": "ProgressView",
            "style": "IPY_MODEL_0b2e814092fb4797803fe6ae8b9c491d",
            "_dom_classes": [],
            "description": "100%",
            "_model_name": "FloatProgressModel",
            "bar_style": "success",
            "max": 1470,
            "_view_module": "@jupyter-widgets/controls",
            "_model_module_version": "1.5.0",
            "value": 1470,
            "_view_count": null,
            "_view_module_version": "1.5.0",
            "orientation": "horizontal",
            "min": 0,
            "description_tooltip": null,
            "_model_module": "@jupyter-widgets/controls",
            "layout": "IPY_MODEL_78fc01fc0e3f412b946cc960ac948a4d"
          }
        },
        "66d37005c11b4c3aa7e1e181892f0357": {
          "model_module": "@jupyter-widgets/controls",
          "model_name": "HTMLModel",
          "state": {
            "_view_name": "HTMLView",
            "style": "IPY_MODEL_84f9cd8247a3401b9e456a55c3a75809",
            "_dom_classes": [],
            "description": "",
            "_model_name": "HTMLModel",
            "placeholder": "​",
            "_view_module": "@jupyter-widgets/controls",
            "_model_module_version": "1.5.0",
            "value": " 1470/1470 [00:00&lt;00:00, 18328.81it/s]",
            "_view_count": null,
            "_view_module_version": "1.5.0",
            "description_tooltip": null,
            "_model_module": "@jupyter-widgets/controls",
            "layout": "IPY_MODEL_c88095df96bb417dad71b8321da3915a"
          }
        },
        "0b2e814092fb4797803fe6ae8b9c491d": {
          "model_module": "@jupyter-widgets/controls",
          "model_name": "ProgressStyleModel",
          "state": {
            "_view_name": "StyleView",
            "_model_name": "ProgressStyleModel",
            "description_width": "initial",
            "_view_module": "@jupyter-widgets/base",
            "_model_module_version": "1.5.0",
            "_view_count": null,
            "_view_module_version": "1.2.0",
            "bar_color": null,
            "_model_module": "@jupyter-widgets/controls"
          }
        },
        "78fc01fc0e3f412b946cc960ac948a4d": {
          "model_module": "@jupyter-widgets/base",
          "model_name": "LayoutModel",
          "state": {
            "_view_name": "LayoutView",
            "grid_template_rows": null,
            "right": null,
            "justify_content": null,
            "_view_module": "@jupyter-widgets/base",
            "overflow": null,
            "_model_module_version": "1.2.0",
            "_view_count": null,
            "flex_flow": null,
            "width": null,
            "min_width": null,
            "border": null,
            "align_items": null,
            "bottom": null,
            "_model_module": "@jupyter-widgets/base",
            "top": null,
            "grid_column": null,
            "overflow_y": null,
            "overflow_x": null,
            "grid_auto_flow": null,
            "grid_area": null,
            "grid_template_columns": null,
            "flex": null,
            "_model_name": "LayoutModel",
            "justify_items": null,
            "grid_row": null,
            "max_height": null,
            "align_content": null,
            "visibility": null,
            "align_self": null,
            "height": null,
            "min_height": null,
            "padding": null,
            "grid_auto_rows": null,
            "grid_gap": null,
            "max_width": null,
            "order": null,
            "_view_module_version": "1.2.0",
            "grid_template_areas": null,
            "object_position": null,
            "object_fit": null,
            "grid_auto_columns": null,
            "margin": null,
            "display": null,
            "left": null
          }
        },
        "84f9cd8247a3401b9e456a55c3a75809": {
          "model_module": "@jupyter-widgets/controls",
          "model_name": "DescriptionStyleModel",
          "state": {
            "_view_name": "StyleView",
            "_model_name": "DescriptionStyleModel",
            "description_width": "",
            "_view_module": "@jupyter-widgets/base",
            "_model_module_version": "1.5.0",
            "_view_count": null,
            "_view_module_version": "1.2.0",
            "_model_module": "@jupyter-widgets/controls"
          }
        },
        "c88095df96bb417dad71b8321da3915a": {
          "model_module": "@jupyter-widgets/base",
          "model_name": "LayoutModel",
          "state": {
            "_view_name": "LayoutView",
            "grid_template_rows": null,
            "right": null,
            "justify_content": null,
            "_view_module": "@jupyter-widgets/base",
            "overflow": null,
            "_model_module_version": "1.2.0",
            "_view_count": null,
            "flex_flow": null,
            "width": null,
            "min_width": null,
            "border": null,
            "align_items": null,
            "bottom": null,
            "_model_module": "@jupyter-widgets/base",
            "top": null,
            "grid_column": null,
            "overflow_y": null,
            "overflow_x": null,
            "grid_auto_flow": null,
            "grid_area": null,
            "grid_template_columns": null,
            "flex": null,
            "_model_name": "LayoutModel",
            "justify_items": null,
            "grid_row": null,
            "max_height": null,
            "align_content": null,
            "visibility": null,
            "align_self": null,
            "height": null,
            "min_height": null,
            "padding": null,
            "grid_auto_rows": null,
            "grid_gap": null,
            "max_width": null,
            "order": null,
            "_view_module_version": "1.2.0",
            "grid_template_areas": null,
            "object_position": null,
            "object_fit": null,
            "grid_auto_columns": null,
            "margin": null,
            "display": null,
            "left": null
          }
        }
      }
    }
  },
  "cells": [
    {
      "cell_type": "markdown",
      "metadata": {
        "id": "XilDSpJfDzDz",
        "colab_type": "text"
      },
      "source": [
        "\n",
        "# Trabalho Embedding - Analisando similaridade entre resultados de exames\n",
        "Alunas: Elisangela Souza e Priscila Lara\n",
        "\n"
      ]
    },
    {
      "cell_type": "code",
      "metadata": {
        "id": "ul2GOowp1mCt",
        "colab_type": "code",
        "colab": {
          "base_uri": "https://localhost:8080/",
          "height": 819
        },
        "outputId": "26bc63c3-f830-4e2d-e9d3-afe584aa5b02"
      },
      "source": [
        "!pip install gensim\n",
        "!pip install umap-learn\n",
        "!pip install unidecode\n",
        "!pip install wikipedia"
      ],
      "execution_count": 2,
      "outputs": [
        {
          "output_type": "stream",
          "text": [
            "Requirement already satisfied: gensim in /usr/local/lib/python3.6/dist-packages (3.6.0)\n",
            "Requirement already satisfied: six>=1.5.0 in /usr/local/lib/python3.6/dist-packages (from gensim) (1.12.0)\n",
            "Requirement already satisfied: scipy>=0.18.1 in /usr/local/lib/python3.6/dist-packages (from gensim) (1.4.1)\n",
            "Requirement already satisfied: numpy>=1.11.3 in /usr/local/lib/python3.6/dist-packages (from gensim) (1.18.5)\n",
            "Requirement already satisfied: smart-open>=1.2.1 in /usr/local/lib/python3.6/dist-packages (from gensim) (2.0.0)\n",
            "Requirement already satisfied: boto in /usr/local/lib/python3.6/dist-packages (from smart-open>=1.2.1->gensim) (2.49.0)\n",
            "Requirement already satisfied: boto3 in /usr/local/lib/python3.6/dist-packages (from smart-open>=1.2.1->gensim) (1.14.9)\n",
            "Requirement already satisfied: requests in /usr/local/lib/python3.6/dist-packages (from smart-open>=1.2.1->gensim) (2.23.0)\n",
            "Requirement already satisfied: jmespath<1.0.0,>=0.7.1 in /usr/local/lib/python3.6/dist-packages (from boto3->smart-open>=1.2.1->gensim) (0.10.0)\n",
            "Requirement already satisfied: botocore<1.18.0,>=1.17.9 in /usr/local/lib/python3.6/dist-packages (from boto3->smart-open>=1.2.1->gensim) (1.17.9)\n",
            "Requirement already satisfied: s3transfer<0.4.0,>=0.3.0 in /usr/local/lib/python3.6/dist-packages (from boto3->smart-open>=1.2.1->gensim) (0.3.3)\n",
            "Requirement already satisfied: chardet<4,>=3.0.2 in /usr/local/lib/python3.6/dist-packages (from requests->smart-open>=1.2.1->gensim) (3.0.4)\n",
            "Requirement already satisfied: idna<3,>=2.5 in /usr/local/lib/python3.6/dist-packages (from requests->smart-open>=1.2.1->gensim) (2.9)\n",
            "Requirement already satisfied: certifi>=2017.4.17 in /usr/local/lib/python3.6/dist-packages (from requests->smart-open>=1.2.1->gensim) (2020.6.20)\n",
            "Requirement already satisfied: urllib3!=1.25.0,!=1.25.1,<1.26,>=1.21.1 in /usr/local/lib/python3.6/dist-packages (from requests->smart-open>=1.2.1->gensim) (1.24.3)\n",
            "Requirement already satisfied: python-dateutil<3.0.0,>=2.1 in /usr/local/lib/python3.6/dist-packages (from botocore<1.18.0,>=1.17.9->boto3->smart-open>=1.2.1->gensim) (2.8.1)\n",
            "Requirement already satisfied: docutils<0.16,>=0.10 in /usr/local/lib/python3.6/dist-packages (from botocore<1.18.0,>=1.17.9->boto3->smart-open>=1.2.1->gensim) (0.15.2)\n",
            "Requirement already satisfied: umap-learn in /usr/local/lib/python3.6/dist-packages (0.4.4)\n",
            "Requirement already satisfied: scipy>=1.3.1 in /usr/local/lib/python3.6/dist-packages (from umap-learn) (1.4.1)\n",
            "Requirement already satisfied: tbb in /usr/local/lib/python3.6/dist-packages (from umap-learn) (2020.0.133)\n",
            "Requirement already satisfied: numba!=0.47,>=0.46 in /usr/local/lib/python3.6/dist-packages (from umap-learn) (0.48.0)\n",
            "Requirement already satisfied: numpy>=1.17 in /usr/local/lib/python3.6/dist-packages (from umap-learn) (1.18.5)\n",
            "Requirement already satisfied: scikit-learn>=0.20 in /usr/local/lib/python3.6/dist-packages (from umap-learn) (0.22.2.post1)\n",
            "Requirement already satisfied: setuptools in /usr/local/lib/python3.6/dist-packages (from numba!=0.47,>=0.46->umap-learn) (47.3.1)\n",
            "Requirement already satisfied: llvmlite<0.32.0,>=0.31.0dev0 in /usr/local/lib/python3.6/dist-packages (from numba!=0.47,>=0.46->umap-learn) (0.31.0)\n",
            "Requirement already satisfied: joblib>=0.11 in /usr/local/lib/python3.6/dist-packages (from scikit-learn>=0.20->umap-learn) (0.15.1)\n",
            "Collecting unidecode\n",
            "\u001b[?25l  Downloading https://files.pythonhosted.org/packages/d0/42/d9edfed04228bacea2d824904cae367ee9efd05e6cce7ceaaedd0b0ad964/Unidecode-1.1.1-py2.py3-none-any.whl (238kB)\n",
            "\u001b[K     |████████████████████████████████| 245kB 2.8MB/s \n",
            "\u001b[?25hInstalling collected packages: unidecode\n",
            "Successfully installed unidecode-1.1.1\n",
            "Collecting wikipedia\n",
            "  Downloading https://files.pythonhosted.org/packages/67/35/25e68fbc99e672127cc6fbb14b8ec1ba3dfef035bf1e4c90f78f24a80b7d/wikipedia-1.4.0.tar.gz\n",
            "Requirement already satisfied: beautifulsoup4 in /usr/local/lib/python3.6/dist-packages (from wikipedia) (4.6.3)\n",
            "Requirement already satisfied: requests<3.0.0,>=2.0.0 in /usr/local/lib/python3.6/dist-packages (from wikipedia) (2.23.0)\n",
            "Requirement already satisfied: certifi>=2017.4.17 in /usr/local/lib/python3.6/dist-packages (from requests<3.0.0,>=2.0.0->wikipedia) (2020.6.20)\n",
            "Requirement already satisfied: chardet<4,>=3.0.2 in /usr/local/lib/python3.6/dist-packages (from requests<3.0.0,>=2.0.0->wikipedia) (3.0.4)\n",
            "Requirement already satisfied: urllib3!=1.25.0,!=1.25.1,<1.26,>=1.21.1 in /usr/local/lib/python3.6/dist-packages (from requests<3.0.0,>=2.0.0->wikipedia) (1.24.3)\n",
            "Requirement already satisfied: idna<3,>=2.5 in /usr/local/lib/python3.6/dist-packages (from requests<3.0.0,>=2.0.0->wikipedia) (2.9)\n",
            "Building wheels for collected packages: wikipedia\n",
            "  Building wheel for wikipedia (setup.py) ... \u001b[?25l\u001b[?25hdone\n",
            "  Created wheel for wikipedia: filename=wikipedia-1.4.0-cp36-none-any.whl size=11686 sha256=6de178cde5966ba9e492a199a8642cec82f709dd607164688b4cb69c373e2541\n",
            "  Stored in directory: /root/.cache/pip/wheels/87/2a/18/4e471fd96d12114d16fe4a446d00c3b38fb9efcb744bd31f4a\n",
            "Successfully built wikipedia\n",
            "Installing collected packages: wikipedia\n",
            "Successfully installed wikipedia-1.4.0\n"
          ],
          "name": "stdout"
        }
      ]
    },
    {
      "cell_type": "code",
      "metadata": {
        "id": "U4GDxnpoDr0h",
        "colab_type": "code",
        "colab": {
          "base_uri": "https://localhost:8080/",
          "height": 51
        },
        "outputId": "9cac49a8-e75b-4aeb-9abb-2dcc0abe4e78"
      },
      "source": [
        "import re\n",
        "import nltk\n",
        "from nltk import tokenize\n",
        "from nltk.util import ngrams\n",
        "from nltk.corpus import stopwords\n",
        "import string\n",
        "from unidecode import unidecode\n",
        "import pandas as pd\n",
        "import os\n",
        "import bz2\n",
        "import gensim\n",
        "import warnings\n",
        "import numpy as np\n",
        "from gensim.models import word2vec\n",
        "from sklearn.feature_extraction.text import CountVectorizer\n",
        "from scipy.spatial import distance\n",
        "from sklearn.metrics.pairwise import cosine_similarity\n",
        "from tqdm._tqdm_notebook import tqdm_notebook\n",
        "from sklearn.model_selection import train_test_split\n",
        "from sklearn.linear_model import LogisticRegression\n",
        "from sklearn.metrics import classification_report,confusion_matrix,accuracy_score\n",
        "\n",
        "warnings.filterwarnings('ignore')\n",
        "tqdm_notebook.pandas()\n",
        "\n",
        "import matplotlib.pyplot as plt\n",
        "%matplotlib inline"
      ],
      "execution_count": 3,
      "outputs": [
        {
          "output_type": "stream",
          "text": [
            "/usr/local/lib/python3.6/dist-packages/ipykernel_launcher.py:18: TqdmDeprecationWarning: This function will be removed in tqdm==5.0.0\n",
            "Please use `tqdm.notebook.*` instead of `tqdm._tqdm_notebook.*`\n"
          ],
          "name": "stderr"
        }
      ]
    },
    {
      "cell_type": "markdown",
      "metadata": {
        "id": "eH9dMV7oIESW",
        "colab_type": "text"
      },
      "source": [
        "# 1-Carrengando o Embedding treinado"
      ]
    },
    {
      "cell_type": "code",
      "metadata": {
        "id": "3yPQR1q6VO7g",
        "colab_type": "code",
        "colab": {
          "base_uri": "https://localhost:8080/",
          "height": 122
        },
        "outputId": "7e96b826-c13f-4d47-9b10-856cbb2ffcf7"
      },
      "source": [
        "from google.colab import drive\n",
        "drive.mount('/content/gdrive')\n"
      ],
      "execution_count": 4,
      "outputs": [
        {
          "output_type": "stream",
          "text": [
            "Go to this URL in a browser: https://accounts.google.com/o/oauth2/auth?client_id=947318989803-6bn6qk8qdgf4n4g3pfee6491hc0brc4i.apps.googleusercontent.com&redirect_uri=urn%3aietf%3awg%3aoauth%3a2.0%3aoob&response_type=code&scope=email%20https%3a%2f%2fwww.googleapis.com%2fauth%2fdocs.test%20https%3a%2f%2fwww.googleapis.com%2fauth%2fdrive%20https%3a%2f%2fwww.googleapis.com%2fauth%2fdrive.photos.readonly%20https%3a%2f%2fwww.googleapis.com%2fauth%2fpeopleapi.readonly\n",
            "\n",
            "Enter your authorization code:\n",
            "··········\n",
            "Mounted at /content/gdrive\n"
          ],
          "name": "stdout"
        }
      ]
    },
    {
      "cell_type": "code",
      "metadata": {
        "id": "TzIzLadze4i8",
        "colab_type": "code",
        "colab": {}
      },
      "source": [
        "#carregando o modelo\n",
        "word_vectors = gensim.models.KeyedVectors.load_word2vec_format('/content/gdrive/My Drive/PUC Pós-Graduação Data Science e Big Data/NLP/ptwiki_20180420_100d.txt.bz2', binary=False)"
      ],
      "execution_count": 5,
      "outputs": []
    },
    {
      "cell_type": "code",
      "metadata": {
        "id": "FiShLpHNBYSC",
        "colab_type": "code",
        "colab": {
          "base_uri": "https://localhost:8080/",
          "height": 34
        },
        "outputId": "06f88204-488e-4499-d1b2-cd735694f8d7"
      },
      "source": [
        "#verificando a quantidade de palavras do modelo\n",
        "len(word_vectors.wv.vocab)"
      ],
      "execution_count": 6,
      "outputs": [
        {
          "output_type": "execute_result",
          "data": {
            "text/plain": [
              "1055544"
            ]
          },
          "metadata": {
            "tags": []
          },
          "execution_count": 6
        }
      ]
    },
    {
      "cell_type": "markdown",
      "metadata": {
        "id": "J0qowe7wHhof",
        "colab_type": "text"
      },
      "source": [
        "# 2- Relação de resultados apurados\n",
        "\n"
      ]
    },
    {
      "cell_type": "code",
      "metadata": {
        "id": "Pb7XL1FTfYVp",
        "colab_type": "code",
        "colab": {}
      },
      "source": [
        "resultado1 = 'nao detectado'\n",
        "resultado2 = 'nao detectável'\n",
        "resultado3 = 'reagente'\n",
        "resultado4 = 'influenzaB'\n",
        "resultado5 = 'não realizado'\n",
        "resultado6 = 'detectável'\n",
        "resultado7 = 'influenzaA'\n",
        "resultado8 = 'inconclusivo'\n",
        "resultado9 = 'detectado presenca rna corona virus sarscov2'\n",
        "resultado10 = 'indeterminado'\n"
      ],
      "execution_count": 17,
      "outputs": []
    },
    {
      "cell_type": "markdown",
      "metadata": {
        "id": "yQ3nYalmIWae",
        "colab_type": "text"
      },
      "source": [
        "# 3 - Calculando a distância do cosseno utilizando a representação Embedding  para os seguintes pares de resultados:\n",
        "*  Resultado 1 e 2\n",
        "*  Resultado 1 e 3\n",
        "*  Resultado 1 e 4\n",
        "*  Resultado 1 e 5\n",
        "*  Resultado 1 e 7\n",
        "*  Resultado 1 e 8\n",
        "*  Resultado 1 e 9\n",
        "*  Resultado 1 e 10\n",
        "\n",
        "\n",
        "\n",
        "\n",
        "\n",
        "\n",
        "\n",
        "\n"
      ]
    },
    {
      "cell_type": "code",
      "metadata": {
        "id": "Pe7BZF2xhFnF",
        "colab_type": "code",
        "colab": {
          "base_uri": "https://localhost:8080/",
          "height": 272
        },
        "outputId": "e5ca2fe3-b008-405d-8805-6ebea4e01ff2"
      },
      "source": [
        "#O embedding é um vetor das palavras. Temos várias palavras e cada palavra tem sua dimensão (representação). \n",
        "word_vectors['detectado']"
      ],
      "execution_count": 18,
      "outputs": [
        {
          "output_type": "execute_result",
          "data": {
            "text/plain": [
              "array([ 0.2297,  0.9696,  0.2162, -0.1864, -0.2663, -0.6136,  0.048 ,\n",
              "        0.539 , -0.4787,  0.7443,  0.4295, -0.0359, -0.1883,  0.2331,\n",
              "       -0.0971,  0.0754,  0.5041, -0.673 , -0.6749, -0.2434, -0.2338,\n",
              "       -0.0797,  0.0612,  0.1063, -0.0462,  0.1731, -0.8561, -0.4903,\n",
              "       -0.0366,  0.2869, -0.4647,  0.0164,  0.0821,  0.1748, -0.1165,\n",
              "        0.1271,  0.3991,  0.063 ,  0.7716, -0.8931,  0.2171, -0.1215,\n",
              "       -0.8208,  0.2584,  0.1657, -0.4614, -0.1634, -0.4077, -0.1084,\n",
              "       -0.1967,  0.188 , -0.3754,  0.6944,  0.1449,  0.7163, -0.8843,\n",
              "       -0.6084, -0.0934, -0.2879,  0.3934,  0.3787,  0.0072, -0.2224,\n",
              "       -0.0808,  0.3061, -0.015 , -0.3393,  0.3521,  0.1397, -0.3725,\n",
              "       -0.0463,  0.811 , -0.0915, -0.4138,  0.0466,  0.1189, -0.4813,\n",
              "       -0.2447, -0.1431,  0.1981,  0.189 , -0.2203, -0.8637, -0.3788,\n",
              "        0.1463,  0.0626, -0.2046,  0.038 ,  0.1827, -0.0706,  0.4459,\n",
              "        0.4702,  0.4367,  0.2478, -0.0919, -0.3371,  0.439 , -0.0477,\n",
              "       -0.0712,  0.1582], dtype=float32)"
            ]
          },
          "metadata": {
            "tags": []
          },
          "execution_count": 18
        }
      ]
    },
    {
      "cell_type": "code",
      "metadata": {
        "id": "a6M1ybkuhYtO",
        "colab_type": "code",
        "colab": {
          "base_uri": "https://localhost:8080/",
          "height": 1000
        },
        "outputId": "48619777-fdc5-40dd-9cad-c5d026c9755d"
      },
      "source": [
        "#estamos recuperando o vetor de cada uma das palavras declaradas acima. O if é para garantir que as palavras estejam no vocabulário, para evitar erros.\n",
        "[word_vectors[w] for w in resultado1 if w in word_vectors.vocab]"
      ],
      "execution_count": 19,
      "outputs": [
        {
          "output_type": "execute_result",
          "data": {
            "text/plain": [
              "[array([ 8.059e-01, -5.600e-02,  4.930e-02, -1.685e-01, -1.196e-01,\n",
              "        -1.297e-01,  1.850e-02, -1.550e-02, -4.571e-01,  1.790e-02,\n",
              "         1.980e-01, -1.694e-01, -2.221e-01,  3.746e-01, -2.940e-01,\n",
              "        -7.274e-01, -1.068e-01, -1.447e-01,  3.869e-01, -6.763e-01,\n",
              "        -5.865e-01,  3.506e-01,  1.892e-01,  4.610e-02,  6.173e-01,\n",
              "         7.800e-02,  1.914e-01,  7.310e-02, -5.480e-02,  2.312e-01,\n",
              "        -8.030e-02, -2.445e-01, -3.269e-01,  6.759e-01, -9.373e-01,\n",
              "         1.901e-01,  2.847e-01,  2.918e-01,  1.079e-01,  1.906e-01,\n",
              "         4.544e-01, -1.748e-01, -4.468e-01, -1.660e-02,  2.324e-01,\n",
              "         1.454e-01,  2.485e-01,  4.484e-01, -2.667e-01,  2.006e-01,\n",
              "        -1.709e-01,  2.056e-01,  1.766e-01,  3.461e-01,  8.340e-02,\n",
              "        -3.472e-01,  1.073e-01, -1.236e-01,  5.330e-02,  9.220e-02,\n",
              "         4.189e-01, -1.165e-01, -1.591e-01, -6.400e-02,  2.640e-02,\n",
              "         1.460e-02, -6.553e-01,  3.140e-01,  1.372e-01, -7.907e-01,\n",
              "        -6.072e-01,  4.810e-02, -9.440e-02, -4.877e-01, -3.169e-01,\n",
              "        -3.338e-01,  4.792e-01,  2.500e-02, -2.906e-01, -2.624e-01,\n",
              "         5.104e-01, -2.728e-01, -2.763e-01, -3.691e-01, -5.197e-01,\n",
              "        -5.327e-01, -1.215e-01, -4.884e-01,  2.463e-01,  1.554e-01,\n",
              "         5.935e-01, -1.056e-01,  5.239e-01,  1.000e-04,  5.193e-01,\n",
              "         2.727e-01, -5.473e-01,  3.893e-01, -4.560e-02,  4.860e-02],\n",
              "       dtype=float32),\n",
              " array([ 4.236e-01,  3.205e-01,  2.406e-01,  5.600e-02, -1.520e-02,\n",
              "        -4.387e-01, -1.760e-02,  4.174e-01, -1.379e-01,  3.096e-01,\n",
              "         9.300e-02, -3.288e-01, -1.494e-01,  3.170e-02,  1.793e-01,\n",
              "        -4.100e-02,  1.073e-01, -6.810e-02, -5.070e-02, -1.903e-01,\n",
              "         9.410e-02,  3.420e-02, -1.447e-01, -9.500e-03,  2.473e-01,\n",
              "         3.440e-02, -1.367e-01, -3.058e-01, -1.178e-01,  2.278e-01,\n",
              "        -1.399e-01,  1.634e-01, -2.390e-02,  7.570e-02,  1.869e-01,\n",
              "        -2.237e-01,  1.378e-01,  4.130e-02,  1.140e-01, -3.299e-01,\n",
              "         1.990e-02,  1.364e-01, -5.178e-01, -1.372e-01, -2.009e-01,\n",
              "         3.728e-01, -4.659e-01, -4.850e-02, -4.920e-01,  1.466e-01,\n",
              "         2.430e-01,  2.190e-01,  2.800e-02,  1.370e-02, -1.346e-01,\n",
              "        -7.640e-02, -1.583e-01, -1.818e-01, -2.220e-02,  1.160e-02,\n",
              "         3.520e-01, -1.449e-01, -4.292e-01,  2.302e-01,  4.580e-02,\n",
              "         3.115e-01, -4.075e-01, -3.529e-01, -7.300e-03, -2.018e-01,\n",
              "         2.280e-02, -3.400e-02, -2.996e-01, -3.829e-01, -1.004e-01,\n",
              "        -4.142e-01, -1.799e-01,  3.348e-01,  4.200e-02, -7.080e-02,\n",
              "         4.230e-02, -6.840e-02,  2.161e-01, -1.738e-01, -3.918e-01,\n",
              "        -3.090e-02,  3.980e-02, -1.597e-01, -2.269e-01, -6.090e-02,\n",
              "         5.254e-01, -2.000e-04,  6.640e-02, -2.743e-01,  2.566e-01,\n",
              "        -7.880e-02, -3.299e-01,  2.509e-01,  1.445e-01,  3.198e-01],\n",
              "       dtype=float32),\n",
              " array([ 0.25  ,  0.455 ,  0.2008, -0.1057, -0.0633, -0.1259,  0.3085,\n",
              "         0.1502, -0.3581,  0.204 ,  0.2594, -0.1495, -0.2778,  0.1378,\n",
              "         0.293 , -0.2183,  0.3943, -0.4105,  0.1556, -0.1722, -0.1688,\n",
              "         0.3161, -0.0916, -0.2857, -0.0756,  0.071 , -0.2102, -0.3499,\n",
              "        -0.1778,  0.0206, -0.4367,  0.2247,  0.3983,  0.3883,  0.0712,\n",
              "        -0.1804,  0.3545,  0.1371,  0.2808, -0.1919,  0.0654, -0.1666,\n",
              "        -0.3752, -0.1054, -0.1054,  0.2164, -0.4376,  0.1104, -0.2   ,\n",
              "         0.0611,  0.3313,  0.0034, -0.0157,  0.5237,  0.1555,  0.1459,\n",
              "        -0.1439, -0.1563,  0.1234,  0.0806,  0.33  , -0.2993, -0.0495,\n",
              "         0.2144,  0.1139, -0.0023, -0.3585,  0.1249,  0.4115, -0.1856,\n",
              "         0.1655,  0.1226, -0.3155, -0.2532, -0.012 , -0.0808,  0.1091,\n",
              "        -0.0687,  0.0321, -0.1335,  0.0407,  0.0467,  0.0731,  0.0053,\n",
              "        -0.2754,  0.0515, -0.2049, -0.3489, -0.2095, -0.371 ,  0.6396,\n",
              "        -0.2644, -0.1327, -0.1492, -0.1074,  0.0302, -0.1301, -0.0403,\n",
              "         0.008 ,  0.2859], dtype=float32),\n",
              " array([-0.1009,  0.4984,  0.3558, -0.3508,  0.1202, -0.1967,  0.072 ,\n",
              "        -0.1879, -0.9656,  0.2965,  0.1148,  0.3632, -0.2012, -0.4717,\n",
              "        -0.1534, -0.5094,  0.0218, -0.1984,  0.2367, -0.6523, -0.367 ,\n",
              "         0.2279, -0.7769,  0.1535,  0.7552,  0.0135, -0.0262,  0.1057,\n",
              "        -0.4045,  0.0688, -0.351 , -0.2277,  0.3741,  0.2077, -0.0507,\n",
              "         0.2434,  0.5526,  0.0725,  0.3483, -0.0351,  0.7227,  0.1814,\n",
              "        -1.0008,  0.14  , -0.0164,  0.2206,  0.672 ,  0.3499, -0.1953,\n",
              "         0.5628,  0.6214,  0.4699,  0.3239,  0.164 , -0.5398, -0.8146,\n",
              "        -0.2141, -0.1853,  0.0044,  0.3973,  0.2895, -0.3861,  0.2068,\n",
              "         0.6217,  0.1307,  0.0798, -0.4034,  0.2038, -0.0331, -0.64  ,\n",
              "        -0.5843, -0.2688,  0.1351, -0.5051, -0.063 , -0.2433, -0.026 ,\n",
              "         0.8049, -0.3069, -0.1877, -0.1601, -0.1808, -0.6779,  0.2958,\n",
              "         0.2495,  0.0072,  0.092 , -0.5501, -0.0614,  0.1056,  0.4587,\n",
              "         0.0792, -0.0521, -0.6485,  0.2741, -0.0622, -0.7177,  0.4331,\n",
              "         0.551 ,  0.3457], dtype=float32),\n",
              " array([ 0.3251,  0.0456,  0.2063, -0.1638, -0.1423, -0.1766,  0.0498,\n",
              "         0.1991,  0.0632,  0.1972,  0.0233, -0.2375, -0.2838,  0.0989,\n",
              "        -0.0195, -0.1347,  0.1875, -0.31  ,  0.3027, -0.1499, -0.0885,\n",
              "         0.0977, -0.2978, -0.2068,  0.1471,  0.078 , -0.0666, -0.1148,\n",
              "        -0.2839,  0.1267,  0.0561,  0.1207,  0.1905,  0.135 , -0.0416,\n",
              "        -0.3768,  0.0035,  0.135 ,  0.0179, -0.3074,  0.0042, -0.1271,\n",
              "        -0.4754, -0.1234, -0.0246,  0.3434, -0.0997,  0.0199, -0.32  ,\n",
              "         0.05  ,  0.2118, -0.0118,  0.2204,  0.2913, -0.1004, -0.0955,\n",
              "        -0.0213, -0.2957, -0.042 ,  0.1054,  0.1834, -0.0225, -0.1784,\n",
              "         0.2985, -0.1047,  0.0216, -0.2458, -0.0686,  0.1954, -0.2563,\n",
              "         0.0288,  0.0228, -0.2254, -0.2616, -0.1571, -0.1489, -0.0719,\n",
              "         0.0601, -0.0987,  0.0297,  0.1037, -0.2636,  0.096 , -0.0605,\n",
              "        -0.2024,  0.0881, -0.0207, -0.1377, -0.1994, -0.1746,  0.5469,\n",
              "        -0.3622,  0.0229, -0.0813,  0.3003, -0.0974, -0.3038,  0.2169,\n",
              "         0.1633,  0.4177], dtype=float32),\n",
              " array([ 0.3961,  0.2004,  0.3987,  0.0493,  0.1025, -0.3536,  0.8235,\n",
              "        -0.4523, -0.5495, -0.0152,  0.3592, -0.3575, -0.0883, -0.2234,\n",
              "        -0.3367, -0.5178,  0.3622,  0.0101,  0.1105,  0.3984, -0.7519,\n",
              "        -0.1201, -0.3424,  0.5244,  0.5681,  0.292 , -0.109 ,  0.1894,\n",
              "        -0.3227,  0.2176,  0.4205, -0.3438,  0.0826,  0.5673, -0.438 ,\n",
              "         0.0215,  0.447 , -0.04  ,  0.3589, -0.1511,  0.4791, -0.1154,\n",
              "        -0.5855, -0.3559,  0.4538,  0.1242, -0.1641,  0.2204, -0.3196,\n",
              "         0.4216,  0.051 ,  0.2621,  0.1529,  0.4016, -0.1877, -0.6918,\n",
              "        -0.2558, -0.3496,  0.42  ,  0.3105,  0.3527, -0.0825, -0.0326,\n",
              "         0.2611, -0.0503,  0.2699, -0.3071, -0.0509,  0.2405, -0.3062,\n",
              "        -0.6292,  0.2947, -0.2599, -0.4429,  0.0248, -0.5723, -0.1004,\n",
              "         0.201 , -0.1342, -0.3057,  0.1957, -0.0226,  0.0758, -0.1366,\n",
              "         0.0277, -0.1119,  0.2535, -0.6412,  0.486 ,  0.6897,  0.6908,\n",
              "         0.0364,  0.331 ,  0.3503, -0.2935, -0.0495, -0.4007,  0.1262,\n",
              "         0.2204,  0.2362], dtype=float32),\n",
              " array([ 0.3251,  0.0456,  0.2063, -0.1638, -0.1423, -0.1766,  0.0498,\n",
              "         0.1991,  0.0632,  0.1972,  0.0233, -0.2375, -0.2838,  0.0989,\n",
              "        -0.0195, -0.1347,  0.1875, -0.31  ,  0.3027, -0.1499, -0.0885,\n",
              "         0.0977, -0.2978, -0.2068,  0.1471,  0.078 , -0.0666, -0.1148,\n",
              "        -0.2839,  0.1267,  0.0561,  0.1207,  0.1905,  0.135 , -0.0416,\n",
              "        -0.3768,  0.0035,  0.135 ,  0.0179, -0.3074,  0.0042, -0.1271,\n",
              "        -0.4754, -0.1234, -0.0246,  0.3434, -0.0997,  0.0199, -0.32  ,\n",
              "         0.05  ,  0.2118, -0.0118,  0.2204,  0.2913, -0.1004, -0.0955,\n",
              "        -0.0213, -0.2957, -0.042 ,  0.1054,  0.1834, -0.0225, -0.1784,\n",
              "         0.2985, -0.1047,  0.0216, -0.2458, -0.0686,  0.1954, -0.2563,\n",
              "         0.0288,  0.0228, -0.2254, -0.2616, -0.1571, -0.1489, -0.0719,\n",
              "         0.0601, -0.0987,  0.0297,  0.1037, -0.2636,  0.096 , -0.0605,\n",
              "        -0.2024,  0.0881, -0.0207, -0.1377, -0.1994, -0.1746,  0.5469,\n",
              "        -0.3622,  0.0229, -0.0813,  0.3003, -0.0974, -0.3038,  0.2169,\n",
              "         0.1633,  0.4177], dtype=float32),\n",
              " array([ 0.275 ,  0.3119,  0.5069,  0.1645,  0.1222, -0.0111,  0.4219,\n",
              "         0.089 , -0.6779,  0.2724, -0.1857,  0.2342,  0.1012,  0.4153,\n",
              "        -0.0721,  0.1568,  0.2108, -0.2738,  0.3602, -0.0803, -0.0399,\n",
              "         0.6366, -0.4503,  0.1592,  0.4209,  0.3128, -0.0978,  0.3505,\n",
              "        -0.0659,  0.6449,  0.1929, -0.2107,  0.0807,  0.4815, -0.2817,\n",
              "         0.0169,  0.7391,  0.3336,  0.6589, -0.0873,  0.6595, -0.3586,\n",
              "        -0.5019, -0.0314,  0.1629,  0.4691,  0.1677,  0.5105, -0.3897,\n",
              "         0.2554,  0.4518,  0.2628,  0.2136, -0.1358, -0.3098, -1.0898,\n",
              "        -0.23  , -0.6094,  0.4121, -0.0088,  0.0926, -0.0827,  0.0404,\n",
              "         0.4799,  0.1688,  0.1378, -0.2256, -0.0095,  0.0468, -0.8928,\n",
              "        -0.623 , -0.0478,  0.1652, -0.3892, -0.0952, -0.1303,  0.2182,\n",
              "         0.1959, -0.1795, -0.0474,  0.2845,  0.1557, -0.2265, -0.3827,\n",
              "         0.1638, -0.1386, -0.1966, -0.1509,  0.0156,  0.2371,  0.857 ,\n",
              "        -0.1079,  0.4797,  0.1662, -0.1141,  0.2076, -0.1859,  0.6503,\n",
              "         0.3263,  0.1559], dtype=float32),\n",
              " array([ 0.3961,  0.2004,  0.3987,  0.0493,  0.1025, -0.3536,  0.8235,\n",
              "        -0.4523, -0.5495, -0.0152,  0.3592, -0.3575, -0.0883, -0.2234,\n",
              "        -0.3367, -0.5178,  0.3622,  0.0101,  0.1105,  0.3984, -0.7519,\n",
              "        -0.1201, -0.3424,  0.5244,  0.5681,  0.292 , -0.109 ,  0.1894,\n",
              "        -0.3227,  0.2176,  0.4205, -0.3438,  0.0826,  0.5673, -0.438 ,\n",
              "         0.0215,  0.447 , -0.04  ,  0.3589, -0.1511,  0.4791, -0.1154,\n",
              "        -0.5855, -0.3559,  0.4538,  0.1242, -0.1641,  0.2204, -0.3196,\n",
              "         0.4216,  0.051 ,  0.2621,  0.1529,  0.4016, -0.1877, -0.6918,\n",
              "        -0.2558, -0.3496,  0.42  ,  0.3105,  0.3527, -0.0825, -0.0326,\n",
              "         0.2611, -0.0503,  0.2699, -0.3071, -0.0509,  0.2405, -0.3062,\n",
              "        -0.6292,  0.2947, -0.2599, -0.4429,  0.0248, -0.5723, -0.1004,\n",
              "         0.201 , -0.1342, -0.3057,  0.1957, -0.0226,  0.0758, -0.1366,\n",
              "         0.0277, -0.1119,  0.2535, -0.6412,  0.486 ,  0.6897,  0.6908,\n",
              "         0.0364,  0.331 ,  0.3503, -0.2935, -0.0495, -0.4007,  0.1262,\n",
              "         0.2204,  0.2362], dtype=float32),\n",
              " array([ 4.236e-01,  3.205e-01,  2.406e-01,  5.600e-02, -1.520e-02,\n",
              "        -4.387e-01, -1.760e-02,  4.174e-01, -1.379e-01,  3.096e-01,\n",
              "         9.300e-02, -3.288e-01, -1.494e-01,  3.170e-02,  1.793e-01,\n",
              "        -4.100e-02,  1.073e-01, -6.810e-02, -5.070e-02, -1.903e-01,\n",
              "         9.410e-02,  3.420e-02, -1.447e-01, -9.500e-03,  2.473e-01,\n",
              "         3.440e-02, -1.367e-01, -3.058e-01, -1.178e-01,  2.278e-01,\n",
              "        -1.399e-01,  1.634e-01, -2.390e-02,  7.570e-02,  1.869e-01,\n",
              "        -2.237e-01,  1.378e-01,  4.130e-02,  1.140e-01, -3.299e-01,\n",
              "         1.990e-02,  1.364e-01, -5.178e-01, -1.372e-01, -2.009e-01,\n",
              "         3.728e-01, -4.659e-01, -4.850e-02, -4.920e-01,  1.466e-01,\n",
              "         2.430e-01,  2.190e-01,  2.800e-02,  1.370e-02, -1.346e-01,\n",
              "        -7.640e-02, -1.583e-01, -1.818e-01, -2.220e-02,  1.160e-02,\n",
              "         3.520e-01, -1.449e-01, -4.292e-01,  2.302e-01,  4.580e-02,\n",
              "         3.115e-01, -4.075e-01, -3.529e-01, -7.300e-03, -2.018e-01,\n",
              "         2.280e-02, -3.400e-02, -2.996e-01, -3.829e-01, -1.004e-01,\n",
              "        -4.142e-01, -1.799e-01,  3.348e-01,  4.200e-02, -7.080e-02,\n",
              "         4.230e-02, -6.840e-02,  2.161e-01, -1.738e-01, -3.918e-01,\n",
              "        -3.090e-02,  3.980e-02, -1.597e-01, -2.269e-01, -6.090e-02,\n",
              "         5.254e-01, -2.000e-04,  6.640e-02, -2.743e-01,  2.566e-01,\n",
              "        -7.880e-02, -3.299e-01,  2.509e-01,  1.445e-01,  3.198e-01],\n",
              "       dtype=float32),\n",
              " array([-0.1009,  0.4984,  0.3558, -0.3508,  0.1202, -0.1967,  0.072 ,\n",
              "        -0.1879, -0.9656,  0.2965,  0.1148,  0.3632, -0.2012, -0.4717,\n",
              "        -0.1534, -0.5094,  0.0218, -0.1984,  0.2367, -0.6523, -0.367 ,\n",
              "         0.2279, -0.7769,  0.1535,  0.7552,  0.0135, -0.0262,  0.1057,\n",
              "        -0.4045,  0.0688, -0.351 , -0.2277,  0.3741,  0.2077, -0.0507,\n",
              "         0.2434,  0.5526,  0.0725,  0.3483, -0.0351,  0.7227,  0.1814,\n",
              "        -1.0008,  0.14  , -0.0164,  0.2206,  0.672 ,  0.3499, -0.1953,\n",
              "         0.5628,  0.6214,  0.4699,  0.3239,  0.164 , -0.5398, -0.8146,\n",
              "        -0.2141, -0.1853,  0.0044,  0.3973,  0.2895, -0.3861,  0.2068,\n",
              "         0.6217,  0.1307,  0.0798, -0.4034,  0.2038, -0.0331, -0.64  ,\n",
              "        -0.5843, -0.2688,  0.1351, -0.5051, -0.063 , -0.2433, -0.026 ,\n",
              "         0.8049, -0.3069, -0.1877, -0.1601, -0.1808, -0.6779,  0.2958,\n",
              "         0.2495,  0.0072,  0.092 , -0.5501, -0.0614,  0.1056,  0.4587,\n",
              "         0.0792, -0.0521, -0.6485,  0.2741, -0.0622, -0.7177,  0.4331,\n",
              "         0.551 ,  0.3457], dtype=float32),\n",
              " array([ 0.25  ,  0.455 ,  0.2008, -0.1057, -0.0633, -0.1259,  0.3085,\n",
              "         0.1502, -0.3581,  0.204 ,  0.2594, -0.1495, -0.2778,  0.1378,\n",
              "         0.293 , -0.2183,  0.3943, -0.4105,  0.1556, -0.1722, -0.1688,\n",
              "         0.3161, -0.0916, -0.2857, -0.0756,  0.071 , -0.2102, -0.3499,\n",
              "        -0.1778,  0.0206, -0.4367,  0.2247,  0.3983,  0.3883,  0.0712,\n",
              "        -0.1804,  0.3545,  0.1371,  0.2808, -0.1919,  0.0654, -0.1666,\n",
              "        -0.3752, -0.1054, -0.1054,  0.2164, -0.4376,  0.1104, -0.2   ,\n",
              "         0.0611,  0.3313,  0.0034, -0.0157,  0.5237,  0.1555,  0.1459,\n",
              "        -0.1439, -0.1563,  0.1234,  0.0806,  0.33  , -0.2993, -0.0495,\n",
              "         0.2144,  0.1139, -0.0023, -0.3585,  0.1249,  0.4115, -0.1856,\n",
              "         0.1655,  0.1226, -0.3155, -0.2532, -0.012 , -0.0808,  0.1091,\n",
              "        -0.0687,  0.0321, -0.1335,  0.0407,  0.0467,  0.0731,  0.0053,\n",
              "        -0.2754,  0.0515, -0.2049, -0.3489, -0.2095, -0.371 ,  0.6396,\n",
              "        -0.2644, -0.1327, -0.1492, -0.1074,  0.0302, -0.1301, -0.0403,\n",
              "         0.008 ,  0.2859], dtype=float32)]"
            ]
          },
          "metadata": {
            "tags": []
          },
          "execution_count": 19
        }
      ]
    },
    {
      "cell_type": "code",
      "metadata": {
        "id": "Dcv6DEG2hoZJ",
        "colab_type": "code",
        "colab": {
          "base_uri": "https://localhost:8080/",
          "height": 34
        },
        "outputId": "1a586c28-b1a0-4a3c-dce2-6fb031bdd6d4"
      },
      "source": [
        "#usando o mesmo código acima, acrescentando np.mean, conseguimos a média. \n",
        "#Dessa forma ainda não atende, pois não queremos um número só representando os vetores. O np.mean tem como defalt fazer a média pra todo mundo.\n",
        "#precisamos de um vetor que seja a média dos vetores das doze palavras.\n",
        "np.mean([word_vectors[w] for w in resultado1 if w in word_vectors.vocab])"
      ],
      "execution_count": 21,
      "outputs": [
        {
          "output_type": "execute_result",
          "data": {
            "text/plain": [
              "-6.541729e-05"
            ]
          },
          "metadata": {
            "tags": []
          },
          "execution_count": 21
        }
      ]
    },
    {
      "cell_type": "code",
      "metadata": {
        "id": "y-5asC5RHZwN",
        "colab_type": "code",
        "colab": {
          "base_uri": "https://localhost:8080/",
          "height": 459
        },
        "outputId": "78db3c91-9f7d-4066-c96e-c4db55b7c7c0"
      },
      "source": [
        "##tirando a média das dimensões das palavras do resultado1, acrescentando o axis=0\n",
        "np.mean([word_vectors[w] for w in resultado1 if w in word_vectors.vocab], axis=0)"
      ],
      "execution_count": 22,
      "outputs": [
        {
          "output_type": "execute_result",
          "data": {
            "text/plain": [
              "array([ 3.05725008e-01,  2.74641663e-01,  2.80050009e-01, -8.61666724e-02,\n",
              "        5.33333689e-04, -2.26983353e-01,  2.42733344e-01,  2.72083338e-02,\n",
              "       -4.19233322e-01,  1.89541653e-01,  1.42641664e-01, -1.12949997e-01,\n",
              "       -1.76825002e-01, -5.29166916e-03, -3.67249921e-02, -2.84416646e-01,\n",
              "        1.87516689e-01, -1.97691679e-01,  1.88058332e-01, -1.90766677e-01,\n",
              "       -2.65883356e-01,  1.74899995e-01, -2.97325015e-01,  4.64249961e-02,\n",
              "        3.60199958e-01,  1.14050001e-01, -8.36500004e-02, -4.39333282e-02,\n",
              "       -2.27841660e-01,  1.83258340e-01, -6.57833293e-02, -4.83833365e-02,\n",
              "        1.49749994e-01,  3.25450003e-01, -1.46949992e-01, -6.87500015e-02,\n",
              "        3.34549993e-01,  1.09766662e-01,  2.50550032e-01, -1.60625011e-01,\n",
              "        3.08041662e-01, -5.96666634e-02, -5.71508348e-01, -1.00983329e-01,\n",
              "        5.06916642e-02,  2.64108330e-01, -4.78666611e-02,  1.88591659e-01,\n",
              "       -3.09183329e-01,  2.45016649e-01,  2.66491681e-01,  1.96133330e-01,\n",
              "        1.50766656e-01,  2.49908328e-01, -1.53366685e-01, -3.75150055e-01,\n",
              "       -1.42458349e-01, -2.55866677e-01,  1.19383328e-01,  1.57850012e-01,\n",
              "        2.93891668e-01, -1.72483325e-01, -9.03749987e-02,  3.05641681e-01,\n",
              "        3.88333350e-02,  1.26116663e-01, -3.60458374e-01,  1.42499933e-03,\n",
              "        1.49833336e-01, -4.05274957e-01, -2.68583357e-01,  2.29083318e-02,\n",
              "       -1.54983327e-01, -3.80691648e-01, -8.56249928e-02, -2.81925023e-01,\n",
              "        1.32666649e-02,  2.40424976e-01, -1.16791666e-01, -1.37150005e-01,\n",
              "        1.03291661e-01, -9.12083387e-02, -7.80500099e-02, -7.42833391e-02,\n",
              "       -1.28391668e-01, -5.52749969e-02,  1.08336411e-04, -3.59541684e-01,\n",
              "       -1.33749992e-02,  6.41750023e-02,  5.97775042e-01, -1.02991670e-01,\n",
              "        1.22883342e-01, -1.19975008e-01,  1.05450012e-01, -2.92499899e-03,\n",
              "       -3.74799997e-01,  2.51100004e-01,  2.04591677e-01,  2.84591675e-01],\n",
              "      dtype=float32)"
            ]
          },
          "metadata": {
            "tags": []
          },
          "execution_count": 22
        }
      ]
    },
    {
      "cell_type": "code",
      "metadata": {
        "id": "uizqWjbLhyrZ",
        "colab_type": "code",
        "colab": {}
      },
      "source": [
        "##criando um método para pegar o embedding dos resultados\n",
        "##o np.array é para garantir que é um array\n",
        "def get_embeddings(resultado):\n",
        "  return np.mean(np.array([word_vectors[w] for w in resultado if w in word_vectors.vocab]), axis=0)"
      ],
      "execution_count": 23,
      "outputs": []
    },
    {
      "cell_type": "code",
      "metadata": {
        "id": "Cp1TfinNh5cl",
        "colab_type": "code",
        "colab": {}
      },
      "source": [
        "#transformando os resultados para embedding. Cada resultado agora tem sua representação\n",
        "resultado1_embeddings = get_embeddings(resultado1)\n",
        "resultado2_embeddings = get_embeddings(resultado2)\n",
        "resultado3_embeddings = get_embeddings(resultado3)\n",
        "resultado4_embeddings = get_embeddings(resultado4)\n",
        "resultado5_embeddings = get_embeddings(resultado5)\n",
        "resultado6_embeddings = get_embeddings(resultado6)\n",
        "resultado7_embeddings = get_embeddings(resultado7)\n",
        "resultado8_embeddings = get_embeddings(resultado8)\n",
        "resultado9_embeddings = get_embeddings(resultado9)\n",
        "resultado10_embeddings = get_embeddings(resultado10)"
      ],
      "execution_count": 24,
      "outputs": []
    },
    {
      "cell_type": "markdown",
      "metadata": {
        "id": "_Bv9ud75ixEI",
        "colab_type": "text"
      },
      "source": [
        "Calculando a distancia do coseno em relação ao resultado 1"
      ]
    },
    {
      "cell_type": "code",
      "metadata": {
        "id": "jHRz-nkIio9Q",
        "colab_type": "code",
        "colab": {
          "base_uri": "https://localhost:8080/",
          "height": 170
        },
        "outputId": "e523ed6a-039c-48ad-c1b0-7251c6bc9071"
      },
      "source": [
        "#Mostrando os resultados da distancia do cosseno embedding\n",
        "print(\"Resultado1 e 2\", distance.cosine(resultado1_embeddings, resultado2_embeddings))\n",
        "print(\"Resultado1 e 3\", distance.cosine(resultado1_embeddings, resultado3_embeddings))\n",
        "print(\"Resultado1 e 4\", distance.cosine(resultado1_embeddings, resultado4_embeddings))\n",
        "print(\"Resultado1 e 5\", distance.cosine(resultado1_embeddings, resultado5_embeddings))\n",
        "print(\"Resultado1 e 6\", distance.cosine(resultado1_embeddings, resultado6_embeddings))\n",
        "print(\"Resultado1 e 7\", distance.cosine(resultado1_embeddings, resultado7_embeddings))\n",
        "print(\"Resultado1 e 8\", distance.cosine(resultado1_embeddings, resultado8_embeddings))\n",
        "print(\"Resultado1 e 9\", distance.cosine(resultado1_embeddings, resultado9_embeddings))\n",
        "print(\"Resultado1 e 10\", distance.cosine(resultado1_embeddings, resultado10_embeddings))"
      ],
      "execution_count": 25,
      "outputs": [
        {
          "output_type": "stream",
          "text": [
            "Resultado1 e 2 0.015481531620025635\n",
            "Resultado1 e 3 0.05125910043716431\n",
            "Resultado1 e 4 0.09246671199798584\n",
            "Resultado1 e 5 0.04023027420043945\n",
            "Resultado1 e 6 0.03361254930496216\n",
            "Resultado1 e 7 0.09246671199798584\n",
            "Resultado1 e 8 0.09383845329284668\n",
            "Resultado1 e 9 0.04002881050109863\n",
            "Resultado1 e 10 0.04264253377914429\n"
          ],
          "name": "stdout"
        }
      ]
    },
    {
      "cell_type": "markdown",
      "metadata": {
        "id": "giQ9kWCKJoUM",
        "colab_type": "text"
      },
      "source": [
        "`Análise`\n",
        "Usando o embedding temos um valor para todos os pares de resultado, ganhamos mais informação e maior poder de análise. Temos dimensões de análise, valores latentes que ajudam idenficar a semelhança entre as palavras e consequentemente entre os resultados. Quanto menor a distancia, mais próximo. Dessa forma, a frase 1 e 2 estão mais próximas, que faz muito sentido pois os resultados nao detectado e nao detectável querem dizer a mesma coisa e são muito parecidas. Os valores de todos os pares de resultados estão mais próximos de 0 porque eles estão inseridos em um mesmo contexto."
      ]
    },
    {
      "cell_type": "markdown",
      "metadata": {
        "id": "FMbBppzXSDdK",
        "colab_type": "text"
      },
      "source": [
        "# 4- Similaridade dos vetores"
      ]
    },
    {
      "cell_type": "markdown",
      "metadata": {
        "id": "4VqrOr--T0gS",
        "colab_type": "text"
      },
      "source": [
        "No Gensim é possível avaliar similaridade entre os vetores.\n",
        "Exemplo com a palavras 'detectado' e 'influenza'"
      ]
    },
    {
      "cell_type": "code",
      "metadata": {
        "id": "WEp1my7DSCY4",
        "colab_type": "code",
        "colab": {
          "base_uri": "https://localhost:8080/",
          "height": 187
        },
        "outputId": "1aa35e05-4958-45ff-cc38-6ef0baefbe07"
      },
      "source": [
        "#exibindos palavras similares com a palavra detectado, através da distância do cosseno.\n",
        "word_vectors.most_similar(\"detectado\")"
      ],
      "execution_count": 31,
      "outputs": [
        {
          "output_type": "execute_result",
          "data": {
            "text/plain": [
              "[('detectada', 0.8518422842025757),\n",
              " ('observado', 0.8094549775123596),\n",
              " ('detectados', 0.7806154489517212),\n",
              " ('detectável', 0.7655806541442871),\n",
              " ('testado', 0.7559300065040588),\n",
              " ('verificado', 0.7553390264511108),\n",
              " ('detetado', 0.7540184855461121),\n",
              " ('detectou', 0.746052622795105),\n",
              " ('detectadas', 0.7403658032417297),\n",
              " ('observada', 0.7389559745788574)]"
            ]
          },
          "metadata": {
            "tags": []
          },
          "execution_count": 31
        }
      ]
    },
    {
      "cell_type": "code",
      "metadata": {
        "id": "uKnhKpVKTTHM",
        "colab_type": "code",
        "colab": {
          "base_uri": "https://localhost:8080/",
          "height": 187
        },
        "outputId": "aa11b927-522b-456b-c487-f4b0d9b43def"
      },
      "source": [
        "#exibindos palavras similares com a palavra influenza, através da distância do cosseno.\n",
        "word_vectors.most_similar(\"influenza\")"
      ],
      "execution_count": 32,
      "outputs": [
        {
          "output_type": "execute_result",
          "data": {
            "text/plain": [
              "[('h1n1', 0.8674529790878296),\n",
              " ('gripe', 0.8136347532272339),\n",
              " ('h3n2', 0.7875782251358032),\n",
              " ('parainfluenza', 0.7819692492485046),\n",
              " ('papeira', 0.7716543078422546),\n",
              " ('h9n2', 0.7708017230033875),\n",
              " ('sarampo', 0.7700091600418091),\n",
              " ('imunodeficiência', 0.7687571048736572),\n",
              " ('ebov', 0.7665708661079407),\n",
              " ('chikungunya', 0.7654861211776733)]"
            ]
          },
          "metadata": {
            "tags": []
          },
          "execution_count": 32
        }
      ]
    },
    {
      "cell_type": "markdown",
      "metadata": {
        "id": "sg9DgbGsULvz",
        "colab_type": "text"
      },
      "source": [
        "Operação vetorial\n",
        "Calculando utilizando as palavras:\n",
        "*   detectado, detectável, indeterminado\n",
        "*   detectado, detectável, inconclusivo\n",
        "\n"
      ]
    },
    {
      "cell_type": "code",
      "metadata": {
        "id": "BkegXarSUb2x",
        "colab_type": "code",
        "colab": {
          "base_uri": "https://localhost:8080/",
          "height": 187
        },
        "outputId": "6316f3c0-bf9a-4a8b-be09-ce66546c5005"
      },
      "source": [
        "word_vectors.wv.most_similar(positive=['detectado', 'detectável'], negative=['indeterminado'], topn=10)"
      ],
      "execution_count": 42,
      "outputs": [
        {
          "output_type": "execute_result",
          "data": {
            "text/plain": [
              "[('detectada', 0.7428526878356934),\n",
              " ('indetectável', 0.654558002948761),\n",
              " ('detectáveis', 0.6443363428115845),\n",
              " ('detectar', 0.6374698877334595),\n",
              " ('infravermelhos', 0.636625349521637),\n",
              " ('detectaram', 0.6362962126731873),\n",
              " ('pulsado', 0.635749340057373),\n",
              " ('detectou', 0.6333225965499878),\n",
              " ('mevt', 0.631226658821106),\n",
              " ('observada', 0.6238150596618652)]"
            ]
          },
          "metadata": {
            "tags": []
          },
          "execution_count": 42
        }
      ]
    },
    {
      "cell_type": "code",
      "metadata": {
        "id": "GLY5hBu9V5-Y",
        "colab_type": "code",
        "colab": {
          "base_uri": "https://localhost:8080/",
          "height": 187
        },
        "outputId": "fb834015-1904-4e98-84a0-c129befb162c"
      },
      "source": [
        "word_vectors.wv.most_similar(positive=['detectado', 'detectável'], negative=['inconclusivo'], topn=10)"
      ],
      "execution_count": 43,
      "outputs": [
        {
          "output_type": "execute_result",
          "data": {
            "text/plain": [
              "[('detectada', 0.7187559008598328),\n",
              " ('indetectável', 0.6927450895309448),\n",
              " ('detectar', 0.682698130607605),\n",
              " ('reemitido', 0.681516170501709),\n",
              " ('detectados', 0.6657991409301758),\n",
              " ('detectáveis', 0.6642515659332275),\n",
              " ('mevt', 0.6462289094924927),\n",
              " ('observada', 0.6458206176757812),\n",
              " ('pulsado', 0.6443545818328857),\n",
              " ('ultrassônico', 0.6430661678314209)]"
            ]
          },
          "metadata": {
            "tags": []
          },
          "execution_count": 43
        }
      ]
    },
    {
      "cell_type": "markdown",
      "metadata": {
        "id": "YCoEW0tuWO5L",
        "colab_type": "text"
      },
      "source": [
        "Similaridade das palavras"
      ]
    },
    {
      "cell_type": "code",
      "metadata": {
        "id": "Seje_AX5WMyM",
        "colab_type": "code",
        "colab": {
          "base_uri": "https://localhost:8080/",
          "height": 34
        },
        "outputId": "78d5829f-cb38-4fa7-e068-5222b5d1bcab"
      },
      "source": [
        "word_vectors.wv.similarity('detectado', 'detectável')"
      ],
      "execution_count": null,
      "outputs": [
        {
          "output_type": "execute_result",
          "data": {
            "text/plain": [
              "0.76558065"
            ]
          },
          "metadata": {
            "tags": []
          },
          "execution_count": 61
        }
      ]
    },
    {
      "cell_type": "code",
      "metadata": {
        "id": "zD168erNWdfs",
        "colab_type": "code",
        "colab": {
          "base_uri": "https://localhost:8080/",
          "height": 34
        },
        "outputId": "a2d09704-1dcd-44e6-98c5-b92a1c2982f1"
      },
      "source": [
        "word_vectors.wv.similarity('indeterminado', 'inconclusivo')"
      ],
      "execution_count": null,
      "outputs": [
        {
          "output_type": "execute_result",
          "data": {
            "text/plain": [
              "0.5674166"
            ]
          },
          "metadata": {
            "tags": []
          },
          "execution_count": 62
        }
      ]
    },
    {
      "cell_type": "code",
      "metadata": {
        "id": "ZFwVqsWGXPfW",
        "colab_type": "code",
        "colab": {
          "base_uri": "https://localhost:8080/",
          "height": 34
        },
        "outputId": "24e575ee-d88f-4a05-f65f-ccf2f7b074c4"
      },
      "source": [
        "word_vectors.wv.similarity('detectado', 'reagente')"
      ],
      "execution_count": null,
      "outputs": [
        {
          "output_type": "execute_result",
          "data": {
            "text/plain": [
              "0.46118718"
            ]
          },
          "metadata": {
            "tags": []
          },
          "execution_count": 63
        }
      ]
    },
    {
      "cell_type": "markdown",
      "metadata": {
        "id": "ir2CB4YtAOo2",
        "colab_type": "text"
      },
      "source": [
        "## Representação de textual - Trabalhando com dataset dos resultados de exames\n",
        "\n"
      ]
    },
    {
      "cell_type": "code",
      "metadata": {
        "id": "1Zd99qdSJxeV",
        "colab_type": "code",
        "colab": {}
      },
      "source": [
        "df = pd.read_excel('/content/gdrive/My Drive/PUC Pós-Graduação Data Science e Big Data/NLP/base_resultados_1.xlsx')"
      ],
      "execution_count": 45,
      "outputs": []
    },
    {
      "cell_type": "code",
      "metadata": {
        "id": "yCeHhfROJ6HI",
        "colab_type": "code",
        "colab": {
          "base_uri": "https://localhost:8080/",
          "height": 204
        },
        "outputId": "9c92799b-792a-463e-9b57-b5fb99fefffe"
      },
      "source": [
        "df.head()"
      ],
      "execution_count": 46,
      "outputs": [
        {
          "output_type": "execute_result",
          "data": {
            "text/html": [
              "<div>\n",
              "<style scoped>\n",
              "    .dataframe tbody tr th:only-of-type {\n",
              "        vertical-align: middle;\n",
              "    }\n",
              "\n",
              "    .dataframe tbody tr th {\n",
              "        vertical-align: top;\n",
              "    }\n",
              "\n",
              "    .dataframe thead th {\n",
              "        text-align: right;\n",
              "    }\n",
              "</style>\n",
              "<table border=\"1\" class=\"dataframe\">\n",
              "  <thead>\n",
              "    <tr style=\"text-align: right;\">\n",
              "      <th></th>\n",
              "      <th>id</th>\n",
              "      <th>PARAMETRO</th>\n",
              "      <th>Divulgado</th>\n",
              "      <th>Resultado</th>\n",
              "    </tr>\n",
              "  </thead>\n",
              "  <tbody>\n",
              "    <tr>\n",
              "      <th>0</th>\n",
              "      <td>1</td>\n",
              "      <td>COVID</td>\n",
              "      <td>NÃO DETECTADO</td>\n",
              "      <td>negativo</td>\n",
              "    </tr>\n",
              "    <tr>\n",
              "      <th>1</th>\n",
              "      <td>2</td>\n",
              "      <td>INFL</td>\n",
              "      <td>Não Detectável</td>\n",
              "      <td>negativo</td>\n",
              "    </tr>\n",
              "    <tr>\n",
              "      <th>2</th>\n",
              "      <td>3</td>\n",
              "      <td>INFL</td>\n",
              "      <td>Não Detectável</td>\n",
              "      <td>negativo</td>\n",
              "    </tr>\n",
              "    <tr>\n",
              "      <th>3</th>\n",
              "      <td>4</td>\n",
              "      <td>INFL</td>\n",
              "      <td>Não Detectável</td>\n",
              "      <td>negativo</td>\n",
              "    </tr>\n",
              "    <tr>\n",
              "      <th>4</th>\n",
              "      <td>5</td>\n",
              "      <td>VRS</td>\n",
              "      <td>Não Detectável</td>\n",
              "      <td>negativo</td>\n",
              "    </tr>\n",
              "  </tbody>\n",
              "</table>\n",
              "</div>"
            ],
            "text/plain": [
              "   id PARAMETRO         Divulgado Resultado\n",
              "0   1     COVID     NÃO DETECTADO  negativo\n",
              "1   2      INFL   Não Detectável   negativo\n",
              "2   3      INFL   Não Detectável   negativo\n",
              "3   4      INFL   Não Detectável   negativo\n",
              "4   5       VRS   Não Detectável   negativo"
            ]
          },
          "metadata": {
            "tags": []
          },
          "execution_count": 46
        }
      ]
    },
    {
      "cell_type": "markdown",
      "metadata": {
        "id": "Kx42NyZBRVDz",
        "colab_type": "text"
      },
      "source": [
        "Representação dos resultados positivos e negativos"
      ]
    },
    {
      "cell_type": "code",
      "metadata": {
        "id": "8hr5yyseKATg",
        "colab_type": "code",
        "colab": {}
      },
      "source": [
        "target = df[\"Resultado\"].replace([\"negativo\",\"positivo\"],[0,1])"
      ],
      "execution_count": 47,
      "outputs": []
    },
    {
      "cell_type": "code",
      "metadata": {
        "id": "r62A1XZ8KxEQ",
        "colab_type": "code",
        "colab": {
          "base_uri": "https://localhost:8080/",
          "height": 221
        },
        "outputId": "0d0297a0-75b2-4528-fa90-2599ba8848be"
      },
      "source": [
        "df[\"Resultado\"].replace([\"negativo\",\"positivo\"],[0,1])"
      ],
      "execution_count": 48,
      "outputs": [
        {
          "output_type": "execute_result",
          "data": {
            "text/plain": [
              "0       0\n",
              "1       0\n",
              "2       0\n",
              "3       0\n",
              "4       0\n",
              "       ..\n",
              "1465    1\n",
              "1466    1\n",
              "1467    1\n",
              "1468    1\n",
              "1469    1\n",
              "Name: Resultado, Length: 1470, dtype: int64"
            ]
          },
          "metadata": {
            "tags": []
          },
          "execution_count": 48
        }
      ]
    },
    {
      "cell_type": "markdown",
      "metadata": {
        "id": "jbVtE_xXSqw5",
        "colab_type": "text"
      },
      "source": [
        "Embedding -  pré-processamento na coluna Resultado. Criação de uma nova coluna  no dataframe para armazenar o dado processado."
      ]
    },
    {
      "cell_type": "code",
      "metadata": {
        "id": "eOyzm209LJ05",
        "colab_type": "code",
        "colab": {}
      },
      "source": [
        "from tqdm._tqdm_notebook import tqdm_notebook\n",
        "tqdm_notebook.pandas()"
      ],
      "execution_count": 49,
      "outputs": []
    },
    {
      "cell_type": "code",
      "metadata": {
        "id": "p0ZpwqVKLLws",
        "colab_type": "code",
        "colab": {}
      },
      "source": [
        "def pre_processamento_texto_return_token(corpus):\n",
        "    #print(\"Documento\")\n",
        "    #print(\"#tokenizacao\")\n",
        "    corpus_alt = re.findall(r\"\\w+(?:'\\w+)?|[^\\w\\s]\", corpus)\n",
        "    #lowcase\n",
        "    corpus_alt = [t.lower() for t in corpus_alt]\n",
        "    #print(\"#remove stopwords\")\n",
        "    portugues_stops = stopwords.words('portuguese')\n",
        "    corpus_alt = [t for t in corpus_alt if t not in portugues_stops]\n",
        "    #print(\"#remove numeros\")\n",
        "    corpus_alt = [re.sub(r'\\d', '', t) for t in corpus_alt]\n",
        "    #print(\"#remove pontuação\")\n",
        "    corpus_alt = [t for t in corpus_alt if t not in string.punctuation]\n",
        "    #print(\"#remove acentos\")\n",
        "    corpus_alt = [unidecode(t) for t in corpus_alt]\n",
        "    return corpus_alt"
      ],
      "execution_count": 50,
      "outputs": []
    },
    {
      "cell_type": "code",
      "metadata": {
        "id": "vRFsynB0LpF8",
        "colab_type": "code",
        "colab": {
          "base_uri": "https://localhost:8080/",
          "height": 66,
          "referenced_widgets": [
            "78db52d73f224ebea43c9b5817a21a9c",
            "72d005f900094cd7bc7ac7489dffc435",
            "892b63b7810a4e288c51ec4225c6b4bd",
            "91c6a1ffa504427cbd3352081da800fe",
            "be345e3670db443a841be368f45550d6",
            "ac8f629537e64b91be14f6ab412393a6",
            "cbe459258946443286d6bd572629cec3",
            "3bc7c398327c4a518fe0c2e4e90d15d6"
          ]
        },
        "outputId": "59f98b04-37fc-4520-d7e8-29d36b9aa97e"
      },
      "source": [
        "##Aplicando um pré-processamento na coluna Resultado\n",
        "#o progress_apply mostra o tempo de execução\n",
        "df[\"texto_resultado\"]= df[\"Resultado\"].progress_apply(lambda x:pre_processamento_texto_return_token(x))"
      ],
      "execution_count": 53,
      "outputs": [
        {
          "output_type": "display_data",
          "data": {
            "application/vnd.jupyter.widget-view+json": {
              "model_id": "78db52d73f224ebea43c9b5817a21a9c",
              "version_minor": 0,
              "version_major": 2
            },
            "text/plain": [
              "HBox(children=(FloatProgress(value=0.0, max=1470.0), HTML(value='')))"
            ]
          },
          "metadata": {
            "tags": []
          }
        },
        {
          "output_type": "stream",
          "text": [
            "\n"
          ],
          "name": "stdout"
        }
      ]
    },
    {
      "cell_type": "code",
      "metadata": {
        "id": "zqIo9UR5qxNX",
        "colab_type": "code",
        "colab": {
          "base_uri": "https://localhost:8080/",
          "height": 221
        },
        "outputId": "9a8471d3-ac5c-4aa5-e784-58dca2f3d4a2"
      },
      "source": [
        "#Cada palavra virou um token\n",
        "df[\"texto_resultado\"]"
      ],
      "execution_count": 64,
      "outputs": [
        {
          "output_type": "execute_result",
          "data": {
            "text/plain": [
              "0       [negativo]\n",
              "1       [negativo]\n",
              "2       [negativo]\n",
              "3       [negativo]\n",
              "4       [negativo]\n",
              "           ...    \n",
              "1465    [positivo]\n",
              "1466    [positivo]\n",
              "1467    [positivo]\n",
              "1468    [positivo]\n",
              "1469    [positivo]\n",
              "Name: texto_resultado, Length: 1470, dtype: object"
            ]
          },
          "metadata": {
            "tags": []
          },
          "execution_count": 64
        }
      ]
    },
    {
      "cell_type": "code",
      "metadata": {
        "id": "5Zx9zCJfjR94",
        "colab_type": "code",
        "colab": {
          "base_uri": "https://localhost:8080/",
          "height": 68
        },
        "outputId": "ed4ead04-4278-4065-9159-5fffbe352bdc"
      },
      "source": [
        "import nltk\n",
        "nltk.download('stopwords')"
      ],
      "execution_count": 52,
      "outputs": [
        {
          "output_type": "stream",
          "text": [
            "[nltk_data] Downloading package stopwords to /root/nltk_data...\n",
            "[nltk_data]   Unzipping corpora/stopwords.zip.\n"
          ],
          "name": "stdout"
        },
        {
          "output_type": "execute_result",
          "data": {
            "text/plain": [
              "True"
            ]
          },
          "metadata": {
            "tags": []
          },
          "execution_count": 52
        }
      ]
    },
    {
      "cell_type": "code",
      "metadata": {
        "id": "FOZ3zCPiU4yR",
        "colab_type": "code",
        "colab": {
          "base_uri": "https://localhost:8080/",
          "height": 204
        },
        "outputId": "0cfc48ab-5d18-4485-e924-e0777c0cbd34"
      },
      "source": [
        "#abaixo podemos ver como ficou a coluna texto_resultado\n",
        "df.head()"
      ],
      "execution_count": 65,
      "outputs": [
        {
          "output_type": "execute_result",
          "data": {
            "text/html": [
              "<div>\n",
              "<style scoped>\n",
              "    .dataframe tbody tr th:only-of-type {\n",
              "        vertical-align: middle;\n",
              "    }\n",
              "\n",
              "    .dataframe tbody tr th {\n",
              "        vertical-align: top;\n",
              "    }\n",
              "\n",
              "    .dataframe thead th {\n",
              "        text-align: right;\n",
              "    }\n",
              "</style>\n",
              "<table border=\"1\" class=\"dataframe\">\n",
              "  <thead>\n",
              "    <tr style=\"text-align: right;\">\n",
              "      <th></th>\n",
              "      <th>id</th>\n",
              "      <th>PARAMETRO</th>\n",
              "      <th>Divulgado</th>\n",
              "      <th>Resultado</th>\n",
              "      <th>texto_resultado</th>\n",
              "    </tr>\n",
              "  </thead>\n",
              "  <tbody>\n",
              "    <tr>\n",
              "      <th>0</th>\n",
              "      <td>1</td>\n",
              "      <td>COVID</td>\n",
              "      <td>NÃO DETECTADO</td>\n",
              "      <td>negativo</td>\n",
              "      <td>[negativo]</td>\n",
              "    </tr>\n",
              "    <tr>\n",
              "      <th>1</th>\n",
              "      <td>2</td>\n",
              "      <td>INFL</td>\n",
              "      <td>Não Detectável</td>\n",
              "      <td>negativo</td>\n",
              "      <td>[negativo]</td>\n",
              "    </tr>\n",
              "    <tr>\n",
              "      <th>2</th>\n",
              "      <td>3</td>\n",
              "      <td>INFL</td>\n",
              "      <td>Não Detectável</td>\n",
              "      <td>negativo</td>\n",
              "      <td>[negativo]</td>\n",
              "    </tr>\n",
              "    <tr>\n",
              "      <th>3</th>\n",
              "      <td>4</td>\n",
              "      <td>INFL</td>\n",
              "      <td>Não Detectável</td>\n",
              "      <td>negativo</td>\n",
              "      <td>[negativo]</td>\n",
              "    </tr>\n",
              "    <tr>\n",
              "      <th>4</th>\n",
              "      <td>5</td>\n",
              "      <td>VRS</td>\n",
              "      <td>Não Detectável</td>\n",
              "      <td>negativo</td>\n",
              "      <td>[negativo]</td>\n",
              "    </tr>\n",
              "  </tbody>\n",
              "</table>\n",
              "</div>"
            ],
            "text/plain": [
              "   id PARAMETRO         Divulgado Resultado texto_resultado\n",
              "0   1     COVID     NÃO DETECTADO  negativo      [negativo]\n",
              "1   2      INFL   Não Detectável   negativo      [negativo]\n",
              "2   3      INFL   Não Detectável   negativo      [negativo]\n",
              "3   4      INFL   Não Detectável   negativo      [negativo]\n",
              "4   5       VRS   Não Detectável   negativo      [negativo]"
            ]
          },
          "metadata": {
            "tags": []
          },
          "execution_count": 65
        }
      ]
    },
    {
      "cell_type": "code",
      "metadata": {
        "id": "MC2189kDL6oA",
        "colab_type": "code",
        "colab": {
          "base_uri": "https://localhost:8080/",
          "height": 66,
          "referenced_widgets": [
            "49c63bd55c014e35a76116c1dca091c1",
            "78c2e1c87e56451f9cfce6803a3a57c2",
            "2c175b58c1834fd4b59cca7059aba5f8",
            "66d37005c11b4c3aa7e1e181892f0357",
            "0b2e814092fb4797803fe6ae8b9c491d",
            "78fc01fc0e3f412b946cc960ac948a4d",
            "84f9cd8247a3401b9e456a55c3a75809",
            "c88095df96bb417dad71b8321da3915a"
          ]
        },
        "outputId": "64528eb9-7d3e-47c8-a3b6-803686dea2b9"
      },
      "source": [
        "#aplicando o embedding na coluna texto_resultado para cada token (como mostrado acima)\n",
        "X_embedding = df[\"texto_resultado\"].progress_apply(lambda x:get_embeddings(x))"
      ],
      "execution_count": 66,
      "outputs": [
        {
          "output_type": "display_data",
          "data": {
            "application/vnd.jupyter.widget-view+json": {
              "model_id": "49c63bd55c014e35a76116c1dca091c1",
              "version_minor": 0,
              "version_major": 2
            },
            "text/plain": [
              "HBox(children=(FloatProgress(value=0.0, max=1470.0), HTML(value='')))"
            ]
          },
          "metadata": {
            "tags": []
          }
        },
        {
          "output_type": "stream",
          "text": [
            "\n"
          ],
          "name": "stdout"
        }
      ]
    },
    {
      "cell_type": "markdown",
      "metadata": {
        "id": "Stxxa0JyVhVJ",
        "colab_type": "text"
      },
      "source": [
        "Treinamento com Embedding"
      ]
    },
    {
      "cell_type": "code",
      "metadata": {
        "id": "rWhCpEgXMGFV",
        "colab_type": "code",
        "colab": {
          "base_uri": "https://localhost:8080/",
          "height": 221
        },
        "outputId": "b1d3188d-49ec-4531-d7a8-d4abfd79dd8b"
      },
      "source": [
        "#criando um vetor pra cada token\n",
        "X_embedding "
      ],
      "execution_count": 67,
      "outputs": [
        {
          "output_type": "execute_result",
          "data": {
            "text/plain": [
              "0       [0.0237, 0.444, -0.2914, -0.0247, -0.1992, -0....\n",
              "1       [0.0237, 0.444, -0.2914, -0.0247, -0.1992, -0....\n",
              "2       [0.0237, 0.444, -0.2914, -0.0247, -0.1992, -0....\n",
              "3       [0.0237, 0.444, -0.2914, -0.0247, -0.1992, -0....\n",
              "4       [0.0237, 0.444, -0.2914, -0.0247, -0.1992, -0....\n",
              "                              ...                        \n",
              "1465    [-0.0037, 0.3689, -0.2008, -0.1512, -0.399, -0...\n",
              "1466    [-0.0037, 0.3689, -0.2008, -0.1512, -0.399, -0...\n",
              "1467    [-0.0037, 0.3689, -0.2008, -0.1512, -0.399, -0...\n",
              "1468    [-0.0037, 0.3689, -0.2008, -0.1512, -0.399, -0...\n",
              "1469    [-0.0037, 0.3689, -0.2008, -0.1512, -0.399, -0...\n",
              "Name: texto_resultado, Length: 1470, dtype: object"
            ]
          },
          "metadata": {
            "tags": []
          },
          "execution_count": 67
        }
      ]
    },
    {
      "cell_type": "code",
      "metadata": {
        "id": "p5QYTUczMQUY",
        "colab_type": "code",
        "colab": {}
      },
      "source": [
        "#treinando o modelo utilizando o embedding\n",
        "#dividindo em treino e teste\n",
        "X_train_embedding, X_test_embedding, y_train_embedding, y_test_embedding = train_test_split(X_embedding.values, target, random_state=123)"
      ],
      "execution_count": 72,
      "outputs": []
    },
    {
      "cell_type": "code",
      "metadata": {
        "id": "Bb1Wl2Q1sFQL",
        "colab_type": "code",
        "colab": {
          "base_uri": "https://localhost:8080/",
          "height": 1000
        },
        "outputId": "34223a3a-291c-4f2f-e058-178cb1b411dd"
      },
      "source": [
        "#mostrando o array\n",
        "X_train_embedding"
      ],
      "execution_count": 73,
      "outputs": [
        {
          "output_type": "execute_result",
          "data": {
            "text/plain": [
              "array([array([ 0.0237,  0.444 , -0.2914, -0.0247, -0.1992, -0.7115, -0.0195,\n",
              "       -0.0702, -0.6116,  0.1705,  0.3232, -0.261 , -0.3365, -0.284 ,\n",
              "        0.1178, -0.0847, -0.015 , -0.4868,  0.0755, -0.0049, -0.5704,\n",
              "       -0.1968, -0.3094,  0.1393,  0.132 ,  0.6363, -0.4872, -0.7265,\n",
              "        0.1266,  0.2021,  0.0517, -0.0132, -0.1355,  0.4101,  0.2073,\n",
              "       -0.1835,  0.3665,  0.8099,  0.2506,  0.0041,  0.2262,  0.2131,\n",
              "       -0.9591,  0.4079, -0.0264, -0.2229, -0.7038,  0.0864, -0.5646,\n",
              "       -0.2713,  0.4688,  0.4654, -0.0926,  0.4403,  0.7543, -0.204 ,\n",
              "       -0.2304, -0.2459,  0.2777,  0.3544,  0.8631, -0.5359,  0.0639,\n",
              "        0.083 ,  0.1664, -0.3   , -0.1327,  0.4196,  0.4198, -0.0173,\n",
              "       -0.6077, -0.1335,  0.0652, -0.1701,  0.1337, -0.3696, -0.5352,\n",
              "       -0.3798, -0.1405, -0.3713,  0.3762, -0.0842, -0.3845, -0.2439,\n",
              "       -0.2334, -0.076 ,  0.0555, -0.1757, -0.0409, -0.8005,  0.5787,\n",
              "       -0.2063,  0.0397,  0.0145, -0.1987, -0.4739,  0.3189, -0.0956,\n",
              "       -0.6477,  0.2389], dtype=float32),\n",
              "       array([ 0.0237,  0.444 , -0.2914, -0.0247, -0.1992, -0.7115, -0.0195,\n",
              "       -0.0702, -0.6116,  0.1705,  0.3232, -0.261 , -0.3365, -0.284 ,\n",
              "        0.1178, -0.0847, -0.015 , -0.4868,  0.0755, -0.0049, -0.5704,\n",
              "       -0.1968, -0.3094,  0.1393,  0.132 ,  0.6363, -0.4872, -0.7265,\n",
              "        0.1266,  0.2021,  0.0517, -0.0132, -0.1355,  0.4101,  0.2073,\n",
              "       -0.1835,  0.3665,  0.8099,  0.2506,  0.0041,  0.2262,  0.2131,\n",
              "       -0.9591,  0.4079, -0.0264, -0.2229, -0.7038,  0.0864, -0.5646,\n",
              "       -0.2713,  0.4688,  0.4654, -0.0926,  0.4403,  0.7543, -0.204 ,\n",
              "       -0.2304, -0.2459,  0.2777,  0.3544,  0.8631, -0.5359,  0.0639,\n",
              "        0.083 ,  0.1664, -0.3   , -0.1327,  0.4196,  0.4198, -0.0173,\n",
              "       -0.6077, -0.1335,  0.0652, -0.1701,  0.1337, -0.3696, -0.5352,\n",
              "       -0.3798, -0.1405, -0.3713,  0.3762, -0.0842, -0.3845, -0.2439,\n",
              "       -0.2334, -0.076 ,  0.0555, -0.1757, -0.0409, -0.8005,  0.5787,\n",
              "       -0.2063,  0.0397,  0.0145, -0.1987, -0.4739,  0.3189, -0.0956,\n",
              "       -0.6477,  0.2389], dtype=float32),\n",
              "       array([ 0.0237,  0.444 , -0.2914, -0.0247, -0.1992, -0.7115, -0.0195,\n",
              "       -0.0702, -0.6116,  0.1705,  0.3232, -0.261 , -0.3365, -0.284 ,\n",
              "        0.1178, -0.0847, -0.015 , -0.4868,  0.0755, -0.0049, -0.5704,\n",
              "       -0.1968, -0.3094,  0.1393,  0.132 ,  0.6363, -0.4872, -0.7265,\n",
              "        0.1266,  0.2021,  0.0517, -0.0132, -0.1355,  0.4101,  0.2073,\n",
              "       -0.1835,  0.3665,  0.8099,  0.2506,  0.0041,  0.2262,  0.2131,\n",
              "       -0.9591,  0.4079, -0.0264, -0.2229, -0.7038,  0.0864, -0.5646,\n",
              "       -0.2713,  0.4688,  0.4654, -0.0926,  0.4403,  0.7543, -0.204 ,\n",
              "       -0.2304, -0.2459,  0.2777,  0.3544,  0.8631, -0.5359,  0.0639,\n",
              "        0.083 ,  0.1664, -0.3   , -0.1327,  0.4196,  0.4198, -0.0173,\n",
              "       -0.6077, -0.1335,  0.0652, -0.1701,  0.1337, -0.3696, -0.5352,\n",
              "       -0.3798, -0.1405, -0.3713,  0.3762, -0.0842, -0.3845, -0.2439,\n",
              "       -0.2334, -0.076 ,  0.0555, -0.1757, -0.0409, -0.8005,  0.5787,\n",
              "       -0.2063,  0.0397,  0.0145, -0.1987, -0.4739,  0.3189, -0.0956,\n",
              "       -0.6477,  0.2389], dtype=float32),\n",
              "       ...,\n",
              "       array([ 0.0237,  0.444 , -0.2914, -0.0247, -0.1992, -0.7115, -0.0195,\n",
              "       -0.0702, -0.6116,  0.1705,  0.3232, -0.261 , -0.3365, -0.284 ,\n",
              "        0.1178, -0.0847, -0.015 , -0.4868,  0.0755, -0.0049, -0.5704,\n",
              "       -0.1968, -0.3094,  0.1393,  0.132 ,  0.6363, -0.4872, -0.7265,\n",
              "        0.1266,  0.2021,  0.0517, -0.0132, -0.1355,  0.4101,  0.2073,\n",
              "       -0.1835,  0.3665,  0.8099,  0.2506,  0.0041,  0.2262,  0.2131,\n",
              "       -0.9591,  0.4079, -0.0264, -0.2229, -0.7038,  0.0864, -0.5646,\n",
              "       -0.2713,  0.4688,  0.4654, -0.0926,  0.4403,  0.7543, -0.204 ,\n",
              "       -0.2304, -0.2459,  0.2777,  0.3544,  0.8631, -0.5359,  0.0639,\n",
              "        0.083 ,  0.1664, -0.3   , -0.1327,  0.4196,  0.4198, -0.0173,\n",
              "       -0.6077, -0.1335,  0.0652, -0.1701,  0.1337, -0.3696, -0.5352,\n",
              "       -0.3798, -0.1405, -0.3713,  0.3762, -0.0842, -0.3845, -0.2439,\n",
              "       -0.2334, -0.076 ,  0.0555, -0.1757, -0.0409, -0.8005,  0.5787,\n",
              "       -0.2063,  0.0397,  0.0145, -0.1987, -0.4739,  0.3189, -0.0956,\n",
              "       -0.6477,  0.2389], dtype=float32),\n",
              "       array([-0.0037,  0.3689, -0.2008, -0.1512, -0.399 , -0.462 , -0.244 ,\n",
              "       -0.0032, -0.3513,  0.2569,  0.4171, -0.2227, -0.3729, -0.2133,\n",
              "        0.1348, -0.1754,  0.209 , -0.5756,  0.1564,  0.0449, -0.4831,\n",
              "       -0.1536, -0.1608,  0.2013,  0.0677,  0.6837, -0.4663, -0.651 ,\n",
              "        0.1741,  0.041 ,  0.0108, -0.2357,  0.0946,  0.4364, -0.156 ,\n",
              "       -0.0906,  0.5337,  0.9011,  0.2116, -0.1612,  0.405 ,  0.0248,\n",
              "       -1.012 ,  0.506 , -0.212 , -0.0643, -0.4997,  0.0599, -0.6137,\n",
              "       -0.202 ,  0.3664,  0.7537, -0.1025,  0.3433,  0.7416,  0.0391,\n",
              "       -0.1283, -0.0816,  0.2927,  0.3134,  0.9177, -0.7468,  0.2432,\n",
              "       -0.0011,  0.4051, -0.2431, -0.1467,  0.297 ,  0.6628,  0.2653,\n",
              "       -0.6316, -0.3084, -0.1036, -0.1227,  0.4563, -0.5517, -0.5624,\n",
              "       -0.155 , -0.1442, -0.1135,  0.3335,  0.0942, -0.4469, -0.2123,\n",
              "       -0.2701, -0.2784,  0.1104, -0.156 ,  0.1234, -0.5478,  0.6571,\n",
              "       -0.3451, -0.0169,  0.0198, -0.2137, -0.5426,  0.1744, -0.002 ,\n",
              "       -0.6275,  0.2195], dtype=float32),\n",
              "       array([-0.0037,  0.3689, -0.2008, -0.1512, -0.399 , -0.462 , -0.244 ,\n",
              "       -0.0032, -0.3513,  0.2569,  0.4171, -0.2227, -0.3729, -0.2133,\n",
              "        0.1348, -0.1754,  0.209 , -0.5756,  0.1564,  0.0449, -0.4831,\n",
              "       -0.1536, -0.1608,  0.2013,  0.0677,  0.6837, -0.4663, -0.651 ,\n",
              "        0.1741,  0.041 ,  0.0108, -0.2357,  0.0946,  0.4364, -0.156 ,\n",
              "       -0.0906,  0.5337,  0.9011,  0.2116, -0.1612,  0.405 ,  0.0248,\n",
              "       -1.012 ,  0.506 , -0.212 , -0.0643, -0.4997,  0.0599, -0.6137,\n",
              "       -0.202 ,  0.3664,  0.7537, -0.1025,  0.3433,  0.7416,  0.0391,\n",
              "       -0.1283, -0.0816,  0.2927,  0.3134,  0.9177, -0.7468,  0.2432,\n",
              "       -0.0011,  0.4051, -0.2431, -0.1467,  0.297 ,  0.6628,  0.2653,\n",
              "       -0.6316, -0.3084, -0.1036, -0.1227,  0.4563, -0.5517, -0.5624,\n",
              "       -0.155 , -0.1442, -0.1135,  0.3335,  0.0942, -0.4469, -0.2123,\n",
              "       -0.2701, -0.2784,  0.1104, -0.156 ,  0.1234, -0.5478,  0.6571,\n",
              "       -0.3451, -0.0169,  0.0198, -0.2137, -0.5426,  0.1744, -0.002 ,\n",
              "       -0.6275,  0.2195], dtype=float32)], dtype=object)"
            ]
          },
          "metadata": {
            "tags": []
          },
          "execution_count": 73
        }
      ]
    },
    {
      "cell_type": "code",
      "metadata": {
        "id": "zl2IPbdpthhj",
        "colab_type": "code",
        "colab": {
          "base_uri": "https://localhost:8080/",
          "height": 34
        },
        "outputId": "008f7f39-23eb-4b5f-cacf-1e33ae3a2239"
      },
      "source": [
        "#retornando as dimensões. Pelo resultado abaixo, temos apenas 1 dimensão.\n",
        "X_train_embedding.shape"
      ],
      "execution_count": 74,
      "outputs": [
        {
          "output_type": "execute_result",
          "data": {
            "text/plain": [
              "(1102,)"
            ]
          },
          "metadata": {
            "tags": []
          },
          "execution_count": 74
        }
      ]
    },
    {
      "cell_type": "markdown",
      "metadata": {
        "id": "9M1oryuZtpZy",
        "colab_type": "text"
      },
      "source": [
        "`O X_train_embedding tem um pouco mais de mil linhas, mas não tem colunas, retornando apenas uma dimensão. Será necessário transformar o X_train_embedding para duas dimensões.`"
      ]
    },
    {
      "cell_type": "code",
      "metadata": {
        "id": "Fv3WAbYkMV6Y",
        "colab_type": "code",
        "colab": {}
      },
      "source": [
        "#transformando em duas dimensões\n",
        "X_train_embedding = pd.DataFrame([x for x in X_train_embedding])\n",
        "X_test_embedding = pd.DataFrame([x for x in X_test_embedding])"
      ],
      "execution_count": 76,
      "outputs": []
    },
    {
      "cell_type": "code",
      "metadata": {
        "id": "jQqbeN2VMacX",
        "colab_type": "code",
        "colab": {
          "base_uri": "https://localhost:8080/",
          "height": 34
        },
        "outputId": "b66601cf-0f98-4847-d02e-01036714333b"
      },
      "source": [
        "#retornando as dimensões, após a tranformação em duas dimensões\n",
        "X_train_embedding.shape"
      ],
      "execution_count": 77,
      "outputs": [
        {
          "output_type": "execute_result",
          "data": {
            "text/plain": [
              "(1102, 100)"
            ]
          },
          "metadata": {
            "tags": []
          },
          "execution_count": 77
        }
      ]
    },
    {
      "cell_type": "markdown",
      "metadata": {
        "id": "OmqaAPNSt-3b",
        "colab_type": "text"
      },
      "source": [
        "`Quando transformamos para embedding temos 100 colunas, pois está em fatores latentes.`"
      ]
    },
    {
      "cell_type": "code",
      "metadata": {
        "id": "vBoTWU0XuJvb",
        "colab_type": "code",
        "colab": {
          "base_uri": "https://localhost:8080/",
          "height": 439
        },
        "outputId": "5c9a5c12-583b-469d-95d0-06d9a76f9bd0"
      },
      "source": [
        "#mostrando os embeddings e as 100 dimensões\n",
        "X_train_embedding"
      ],
      "execution_count": 78,
      "outputs": [
        {
          "output_type": "execute_result",
          "data": {
            "text/html": [
              "<div>\n",
              "<style scoped>\n",
              "    .dataframe tbody tr th:only-of-type {\n",
              "        vertical-align: middle;\n",
              "    }\n",
              "\n",
              "    .dataframe tbody tr th {\n",
              "        vertical-align: top;\n",
              "    }\n",
              "\n",
              "    .dataframe thead th {\n",
              "        text-align: right;\n",
              "    }\n",
              "</style>\n",
              "<table border=\"1\" class=\"dataframe\">\n",
              "  <thead>\n",
              "    <tr style=\"text-align: right;\">\n",
              "      <th></th>\n",
              "      <th>0</th>\n",
              "      <th>1</th>\n",
              "      <th>2</th>\n",
              "      <th>3</th>\n",
              "      <th>4</th>\n",
              "      <th>5</th>\n",
              "      <th>6</th>\n",
              "      <th>7</th>\n",
              "      <th>8</th>\n",
              "      <th>9</th>\n",
              "      <th>10</th>\n",
              "      <th>11</th>\n",
              "      <th>12</th>\n",
              "      <th>13</th>\n",
              "      <th>14</th>\n",
              "      <th>15</th>\n",
              "      <th>16</th>\n",
              "      <th>17</th>\n",
              "      <th>18</th>\n",
              "      <th>19</th>\n",
              "      <th>20</th>\n",
              "      <th>21</th>\n",
              "      <th>22</th>\n",
              "      <th>23</th>\n",
              "      <th>24</th>\n",
              "      <th>25</th>\n",
              "      <th>26</th>\n",
              "      <th>27</th>\n",
              "      <th>28</th>\n",
              "      <th>29</th>\n",
              "      <th>30</th>\n",
              "      <th>31</th>\n",
              "      <th>32</th>\n",
              "      <th>33</th>\n",
              "      <th>34</th>\n",
              "      <th>35</th>\n",
              "      <th>36</th>\n",
              "      <th>37</th>\n",
              "      <th>38</th>\n",
              "      <th>39</th>\n",
              "      <th>...</th>\n",
              "      <th>60</th>\n",
              "      <th>61</th>\n",
              "      <th>62</th>\n",
              "      <th>63</th>\n",
              "      <th>64</th>\n",
              "      <th>65</th>\n",
              "      <th>66</th>\n",
              "      <th>67</th>\n",
              "      <th>68</th>\n",
              "      <th>69</th>\n",
              "      <th>70</th>\n",
              "      <th>71</th>\n",
              "      <th>72</th>\n",
              "      <th>73</th>\n",
              "      <th>74</th>\n",
              "      <th>75</th>\n",
              "      <th>76</th>\n",
              "      <th>77</th>\n",
              "      <th>78</th>\n",
              "      <th>79</th>\n",
              "      <th>80</th>\n",
              "      <th>81</th>\n",
              "      <th>82</th>\n",
              "      <th>83</th>\n",
              "      <th>84</th>\n",
              "      <th>85</th>\n",
              "      <th>86</th>\n",
              "      <th>87</th>\n",
              "      <th>88</th>\n",
              "      <th>89</th>\n",
              "      <th>90</th>\n",
              "      <th>91</th>\n",
              "      <th>92</th>\n",
              "      <th>93</th>\n",
              "      <th>94</th>\n",
              "      <th>95</th>\n",
              "      <th>96</th>\n",
              "      <th>97</th>\n",
              "      <th>98</th>\n",
              "      <th>99</th>\n",
              "    </tr>\n",
              "  </thead>\n",
              "  <tbody>\n",
              "    <tr>\n",
              "      <th>0</th>\n",
              "      <td>0.0237</td>\n",
              "      <td>0.4440</td>\n",
              "      <td>-0.2914</td>\n",
              "      <td>-0.0247</td>\n",
              "      <td>-0.1992</td>\n",
              "      <td>-0.7115</td>\n",
              "      <td>-0.0195</td>\n",
              "      <td>-0.0702</td>\n",
              "      <td>-0.6116</td>\n",
              "      <td>0.1705</td>\n",
              "      <td>0.3232</td>\n",
              "      <td>-0.2610</td>\n",
              "      <td>-0.3365</td>\n",
              "      <td>-0.2840</td>\n",
              "      <td>0.1178</td>\n",
              "      <td>-0.0847</td>\n",
              "      <td>-0.015</td>\n",
              "      <td>-0.4868</td>\n",
              "      <td>0.0755</td>\n",
              "      <td>-0.0049</td>\n",
              "      <td>-0.5704</td>\n",
              "      <td>-0.1968</td>\n",
              "      <td>-0.3094</td>\n",
              "      <td>0.1393</td>\n",
              "      <td>0.1320</td>\n",
              "      <td>0.6363</td>\n",
              "      <td>-0.4872</td>\n",
              "      <td>-0.7265</td>\n",
              "      <td>0.1266</td>\n",
              "      <td>0.2021</td>\n",
              "      <td>0.0517</td>\n",
              "      <td>-0.0132</td>\n",
              "      <td>-0.1355</td>\n",
              "      <td>0.4101</td>\n",
              "      <td>0.2073</td>\n",
              "      <td>-0.1835</td>\n",
              "      <td>0.3665</td>\n",
              "      <td>0.8099</td>\n",
              "      <td>0.2506</td>\n",
              "      <td>0.0041</td>\n",
              "      <td>...</td>\n",
              "      <td>0.8631</td>\n",
              "      <td>-0.5359</td>\n",
              "      <td>0.0639</td>\n",
              "      <td>0.0830</td>\n",
              "      <td>0.1664</td>\n",
              "      <td>-0.3000</td>\n",
              "      <td>-0.1327</td>\n",
              "      <td>0.4196</td>\n",
              "      <td>0.4198</td>\n",
              "      <td>-0.0173</td>\n",
              "      <td>-0.6077</td>\n",
              "      <td>-0.1335</td>\n",
              "      <td>0.0652</td>\n",
              "      <td>-0.1701</td>\n",
              "      <td>0.1337</td>\n",
              "      <td>-0.3696</td>\n",
              "      <td>-0.5352</td>\n",
              "      <td>-0.3798</td>\n",
              "      <td>-0.1405</td>\n",
              "      <td>-0.3713</td>\n",
              "      <td>0.3762</td>\n",
              "      <td>-0.0842</td>\n",
              "      <td>-0.3845</td>\n",
              "      <td>-0.2439</td>\n",
              "      <td>-0.2334</td>\n",
              "      <td>-0.0760</td>\n",
              "      <td>0.0555</td>\n",
              "      <td>-0.1757</td>\n",
              "      <td>-0.0409</td>\n",
              "      <td>-0.8005</td>\n",
              "      <td>0.5787</td>\n",
              "      <td>-0.2063</td>\n",
              "      <td>0.0397</td>\n",
              "      <td>0.0145</td>\n",
              "      <td>-0.1987</td>\n",
              "      <td>-0.4739</td>\n",
              "      <td>0.3189</td>\n",
              "      <td>-0.0956</td>\n",
              "      <td>-0.6477</td>\n",
              "      <td>0.2389</td>\n",
              "    </tr>\n",
              "    <tr>\n",
              "      <th>1</th>\n",
              "      <td>0.0237</td>\n",
              "      <td>0.4440</td>\n",
              "      <td>-0.2914</td>\n",
              "      <td>-0.0247</td>\n",
              "      <td>-0.1992</td>\n",
              "      <td>-0.7115</td>\n",
              "      <td>-0.0195</td>\n",
              "      <td>-0.0702</td>\n",
              "      <td>-0.6116</td>\n",
              "      <td>0.1705</td>\n",
              "      <td>0.3232</td>\n",
              "      <td>-0.2610</td>\n",
              "      <td>-0.3365</td>\n",
              "      <td>-0.2840</td>\n",
              "      <td>0.1178</td>\n",
              "      <td>-0.0847</td>\n",
              "      <td>-0.015</td>\n",
              "      <td>-0.4868</td>\n",
              "      <td>0.0755</td>\n",
              "      <td>-0.0049</td>\n",
              "      <td>-0.5704</td>\n",
              "      <td>-0.1968</td>\n",
              "      <td>-0.3094</td>\n",
              "      <td>0.1393</td>\n",
              "      <td>0.1320</td>\n",
              "      <td>0.6363</td>\n",
              "      <td>-0.4872</td>\n",
              "      <td>-0.7265</td>\n",
              "      <td>0.1266</td>\n",
              "      <td>0.2021</td>\n",
              "      <td>0.0517</td>\n",
              "      <td>-0.0132</td>\n",
              "      <td>-0.1355</td>\n",
              "      <td>0.4101</td>\n",
              "      <td>0.2073</td>\n",
              "      <td>-0.1835</td>\n",
              "      <td>0.3665</td>\n",
              "      <td>0.8099</td>\n",
              "      <td>0.2506</td>\n",
              "      <td>0.0041</td>\n",
              "      <td>...</td>\n",
              "      <td>0.8631</td>\n",
              "      <td>-0.5359</td>\n",
              "      <td>0.0639</td>\n",
              "      <td>0.0830</td>\n",
              "      <td>0.1664</td>\n",
              "      <td>-0.3000</td>\n",
              "      <td>-0.1327</td>\n",
              "      <td>0.4196</td>\n",
              "      <td>0.4198</td>\n",
              "      <td>-0.0173</td>\n",
              "      <td>-0.6077</td>\n",
              "      <td>-0.1335</td>\n",
              "      <td>0.0652</td>\n",
              "      <td>-0.1701</td>\n",
              "      <td>0.1337</td>\n",
              "      <td>-0.3696</td>\n",
              "      <td>-0.5352</td>\n",
              "      <td>-0.3798</td>\n",
              "      <td>-0.1405</td>\n",
              "      <td>-0.3713</td>\n",
              "      <td>0.3762</td>\n",
              "      <td>-0.0842</td>\n",
              "      <td>-0.3845</td>\n",
              "      <td>-0.2439</td>\n",
              "      <td>-0.2334</td>\n",
              "      <td>-0.0760</td>\n",
              "      <td>0.0555</td>\n",
              "      <td>-0.1757</td>\n",
              "      <td>-0.0409</td>\n",
              "      <td>-0.8005</td>\n",
              "      <td>0.5787</td>\n",
              "      <td>-0.2063</td>\n",
              "      <td>0.0397</td>\n",
              "      <td>0.0145</td>\n",
              "      <td>-0.1987</td>\n",
              "      <td>-0.4739</td>\n",
              "      <td>0.3189</td>\n",
              "      <td>-0.0956</td>\n",
              "      <td>-0.6477</td>\n",
              "      <td>0.2389</td>\n",
              "    </tr>\n",
              "    <tr>\n",
              "      <th>2</th>\n",
              "      <td>0.0237</td>\n",
              "      <td>0.4440</td>\n",
              "      <td>-0.2914</td>\n",
              "      <td>-0.0247</td>\n",
              "      <td>-0.1992</td>\n",
              "      <td>-0.7115</td>\n",
              "      <td>-0.0195</td>\n",
              "      <td>-0.0702</td>\n",
              "      <td>-0.6116</td>\n",
              "      <td>0.1705</td>\n",
              "      <td>0.3232</td>\n",
              "      <td>-0.2610</td>\n",
              "      <td>-0.3365</td>\n",
              "      <td>-0.2840</td>\n",
              "      <td>0.1178</td>\n",
              "      <td>-0.0847</td>\n",
              "      <td>-0.015</td>\n",
              "      <td>-0.4868</td>\n",
              "      <td>0.0755</td>\n",
              "      <td>-0.0049</td>\n",
              "      <td>-0.5704</td>\n",
              "      <td>-0.1968</td>\n",
              "      <td>-0.3094</td>\n",
              "      <td>0.1393</td>\n",
              "      <td>0.1320</td>\n",
              "      <td>0.6363</td>\n",
              "      <td>-0.4872</td>\n",
              "      <td>-0.7265</td>\n",
              "      <td>0.1266</td>\n",
              "      <td>0.2021</td>\n",
              "      <td>0.0517</td>\n",
              "      <td>-0.0132</td>\n",
              "      <td>-0.1355</td>\n",
              "      <td>0.4101</td>\n",
              "      <td>0.2073</td>\n",
              "      <td>-0.1835</td>\n",
              "      <td>0.3665</td>\n",
              "      <td>0.8099</td>\n",
              "      <td>0.2506</td>\n",
              "      <td>0.0041</td>\n",
              "      <td>...</td>\n",
              "      <td>0.8631</td>\n",
              "      <td>-0.5359</td>\n",
              "      <td>0.0639</td>\n",
              "      <td>0.0830</td>\n",
              "      <td>0.1664</td>\n",
              "      <td>-0.3000</td>\n",
              "      <td>-0.1327</td>\n",
              "      <td>0.4196</td>\n",
              "      <td>0.4198</td>\n",
              "      <td>-0.0173</td>\n",
              "      <td>-0.6077</td>\n",
              "      <td>-0.1335</td>\n",
              "      <td>0.0652</td>\n",
              "      <td>-0.1701</td>\n",
              "      <td>0.1337</td>\n",
              "      <td>-0.3696</td>\n",
              "      <td>-0.5352</td>\n",
              "      <td>-0.3798</td>\n",
              "      <td>-0.1405</td>\n",
              "      <td>-0.3713</td>\n",
              "      <td>0.3762</td>\n",
              "      <td>-0.0842</td>\n",
              "      <td>-0.3845</td>\n",
              "      <td>-0.2439</td>\n",
              "      <td>-0.2334</td>\n",
              "      <td>-0.0760</td>\n",
              "      <td>0.0555</td>\n",
              "      <td>-0.1757</td>\n",
              "      <td>-0.0409</td>\n",
              "      <td>-0.8005</td>\n",
              "      <td>0.5787</td>\n",
              "      <td>-0.2063</td>\n",
              "      <td>0.0397</td>\n",
              "      <td>0.0145</td>\n",
              "      <td>-0.1987</td>\n",
              "      <td>-0.4739</td>\n",
              "      <td>0.3189</td>\n",
              "      <td>-0.0956</td>\n",
              "      <td>-0.6477</td>\n",
              "      <td>0.2389</td>\n",
              "    </tr>\n",
              "    <tr>\n",
              "      <th>3</th>\n",
              "      <td>0.0237</td>\n",
              "      <td>0.4440</td>\n",
              "      <td>-0.2914</td>\n",
              "      <td>-0.0247</td>\n",
              "      <td>-0.1992</td>\n",
              "      <td>-0.7115</td>\n",
              "      <td>-0.0195</td>\n",
              "      <td>-0.0702</td>\n",
              "      <td>-0.6116</td>\n",
              "      <td>0.1705</td>\n",
              "      <td>0.3232</td>\n",
              "      <td>-0.2610</td>\n",
              "      <td>-0.3365</td>\n",
              "      <td>-0.2840</td>\n",
              "      <td>0.1178</td>\n",
              "      <td>-0.0847</td>\n",
              "      <td>-0.015</td>\n",
              "      <td>-0.4868</td>\n",
              "      <td>0.0755</td>\n",
              "      <td>-0.0049</td>\n",
              "      <td>-0.5704</td>\n",
              "      <td>-0.1968</td>\n",
              "      <td>-0.3094</td>\n",
              "      <td>0.1393</td>\n",
              "      <td>0.1320</td>\n",
              "      <td>0.6363</td>\n",
              "      <td>-0.4872</td>\n",
              "      <td>-0.7265</td>\n",
              "      <td>0.1266</td>\n",
              "      <td>0.2021</td>\n",
              "      <td>0.0517</td>\n",
              "      <td>-0.0132</td>\n",
              "      <td>-0.1355</td>\n",
              "      <td>0.4101</td>\n",
              "      <td>0.2073</td>\n",
              "      <td>-0.1835</td>\n",
              "      <td>0.3665</td>\n",
              "      <td>0.8099</td>\n",
              "      <td>0.2506</td>\n",
              "      <td>0.0041</td>\n",
              "      <td>...</td>\n",
              "      <td>0.8631</td>\n",
              "      <td>-0.5359</td>\n",
              "      <td>0.0639</td>\n",
              "      <td>0.0830</td>\n",
              "      <td>0.1664</td>\n",
              "      <td>-0.3000</td>\n",
              "      <td>-0.1327</td>\n",
              "      <td>0.4196</td>\n",
              "      <td>0.4198</td>\n",
              "      <td>-0.0173</td>\n",
              "      <td>-0.6077</td>\n",
              "      <td>-0.1335</td>\n",
              "      <td>0.0652</td>\n",
              "      <td>-0.1701</td>\n",
              "      <td>0.1337</td>\n",
              "      <td>-0.3696</td>\n",
              "      <td>-0.5352</td>\n",
              "      <td>-0.3798</td>\n",
              "      <td>-0.1405</td>\n",
              "      <td>-0.3713</td>\n",
              "      <td>0.3762</td>\n",
              "      <td>-0.0842</td>\n",
              "      <td>-0.3845</td>\n",
              "      <td>-0.2439</td>\n",
              "      <td>-0.2334</td>\n",
              "      <td>-0.0760</td>\n",
              "      <td>0.0555</td>\n",
              "      <td>-0.1757</td>\n",
              "      <td>-0.0409</td>\n",
              "      <td>-0.8005</td>\n",
              "      <td>0.5787</td>\n",
              "      <td>-0.2063</td>\n",
              "      <td>0.0397</td>\n",
              "      <td>0.0145</td>\n",
              "      <td>-0.1987</td>\n",
              "      <td>-0.4739</td>\n",
              "      <td>0.3189</td>\n",
              "      <td>-0.0956</td>\n",
              "      <td>-0.6477</td>\n",
              "      <td>0.2389</td>\n",
              "    </tr>\n",
              "    <tr>\n",
              "      <th>4</th>\n",
              "      <td>0.0237</td>\n",
              "      <td>0.4440</td>\n",
              "      <td>-0.2914</td>\n",
              "      <td>-0.0247</td>\n",
              "      <td>-0.1992</td>\n",
              "      <td>-0.7115</td>\n",
              "      <td>-0.0195</td>\n",
              "      <td>-0.0702</td>\n",
              "      <td>-0.6116</td>\n",
              "      <td>0.1705</td>\n",
              "      <td>0.3232</td>\n",
              "      <td>-0.2610</td>\n",
              "      <td>-0.3365</td>\n",
              "      <td>-0.2840</td>\n",
              "      <td>0.1178</td>\n",
              "      <td>-0.0847</td>\n",
              "      <td>-0.015</td>\n",
              "      <td>-0.4868</td>\n",
              "      <td>0.0755</td>\n",
              "      <td>-0.0049</td>\n",
              "      <td>-0.5704</td>\n",
              "      <td>-0.1968</td>\n",
              "      <td>-0.3094</td>\n",
              "      <td>0.1393</td>\n",
              "      <td>0.1320</td>\n",
              "      <td>0.6363</td>\n",
              "      <td>-0.4872</td>\n",
              "      <td>-0.7265</td>\n",
              "      <td>0.1266</td>\n",
              "      <td>0.2021</td>\n",
              "      <td>0.0517</td>\n",
              "      <td>-0.0132</td>\n",
              "      <td>-0.1355</td>\n",
              "      <td>0.4101</td>\n",
              "      <td>0.2073</td>\n",
              "      <td>-0.1835</td>\n",
              "      <td>0.3665</td>\n",
              "      <td>0.8099</td>\n",
              "      <td>0.2506</td>\n",
              "      <td>0.0041</td>\n",
              "      <td>...</td>\n",
              "      <td>0.8631</td>\n",
              "      <td>-0.5359</td>\n",
              "      <td>0.0639</td>\n",
              "      <td>0.0830</td>\n",
              "      <td>0.1664</td>\n",
              "      <td>-0.3000</td>\n",
              "      <td>-0.1327</td>\n",
              "      <td>0.4196</td>\n",
              "      <td>0.4198</td>\n",
              "      <td>-0.0173</td>\n",
              "      <td>-0.6077</td>\n",
              "      <td>-0.1335</td>\n",
              "      <td>0.0652</td>\n",
              "      <td>-0.1701</td>\n",
              "      <td>0.1337</td>\n",
              "      <td>-0.3696</td>\n",
              "      <td>-0.5352</td>\n",
              "      <td>-0.3798</td>\n",
              "      <td>-0.1405</td>\n",
              "      <td>-0.3713</td>\n",
              "      <td>0.3762</td>\n",
              "      <td>-0.0842</td>\n",
              "      <td>-0.3845</td>\n",
              "      <td>-0.2439</td>\n",
              "      <td>-0.2334</td>\n",
              "      <td>-0.0760</td>\n",
              "      <td>0.0555</td>\n",
              "      <td>-0.1757</td>\n",
              "      <td>-0.0409</td>\n",
              "      <td>-0.8005</td>\n",
              "      <td>0.5787</td>\n",
              "      <td>-0.2063</td>\n",
              "      <td>0.0397</td>\n",
              "      <td>0.0145</td>\n",
              "      <td>-0.1987</td>\n",
              "      <td>-0.4739</td>\n",
              "      <td>0.3189</td>\n",
              "      <td>-0.0956</td>\n",
              "      <td>-0.6477</td>\n",
              "      <td>0.2389</td>\n",
              "    </tr>\n",
              "    <tr>\n",
              "      <th>...</th>\n",
              "      <td>...</td>\n",
              "      <td>...</td>\n",
              "      <td>...</td>\n",
              "      <td>...</td>\n",
              "      <td>...</td>\n",
              "      <td>...</td>\n",
              "      <td>...</td>\n",
              "      <td>...</td>\n",
              "      <td>...</td>\n",
              "      <td>...</td>\n",
              "      <td>...</td>\n",
              "      <td>...</td>\n",
              "      <td>...</td>\n",
              "      <td>...</td>\n",
              "      <td>...</td>\n",
              "      <td>...</td>\n",
              "      <td>...</td>\n",
              "      <td>...</td>\n",
              "      <td>...</td>\n",
              "      <td>...</td>\n",
              "      <td>...</td>\n",
              "      <td>...</td>\n",
              "      <td>...</td>\n",
              "      <td>...</td>\n",
              "      <td>...</td>\n",
              "      <td>...</td>\n",
              "      <td>...</td>\n",
              "      <td>...</td>\n",
              "      <td>...</td>\n",
              "      <td>...</td>\n",
              "      <td>...</td>\n",
              "      <td>...</td>\n",
              "      <td>...</td>\n",
              "      <td>...</td>\n",
              "      <td>...</td>\n",
              "      <td>...</td>\n",
              "      <td>...</td>\n",
              "      <td>...</td>\n",
              "      <td>...</td>\n",
              "      <td>...</td>\n",
              "      <td>...</td>\n",
              "      <td>...</td>\n",
              "      <td>...</td>\n",
              "      <td>...</td>\n",
              "      <td>...</td>\n",
              "      <td>...</td>\n",
              "      <td>...</td>\n",
              "      <td>...</td>\n",
              "      <td>...</td>\n",
              "      <td>...</td>\n",
              "      <td>...</td>\n",
              "      <td>...</td>\n",
              "      <td>...</td>\n",
              "      <td>...</td>\n",
              "      <td>...</td>\n",
              "      <td>...</td>\n",
              "      <td>...</td>\n",
              "      <td>...</td>\n",
              "      <td>...</td>\n",
              "      <td>...</td>\n",
              "      <td>...</td>\n",
              "      <td>...</td>\n",
              "      <td>...</td>\n",
              "      <td>...</td>\n",
              "      <td>...</td>\n",
              "      <td>...</td>\n",
              "      <td>...</td>\n",
              "      <td>...</td>\n",
              "      <td>...</td>\n",
              "      <td>...</td>\n",
              "      <td>...</td>\n",
              "      <td>...</td>\n",
              "      <td>...</td>\n",
              "      <td>...</td>\n",
              "      <td>...</td>\n",
              "      <td>...</td>\n",
              "      <td>...</td>\n",
              "      <td>...</td>\n",
              "      <td>...</td>\n",
              "      <td>...</td>\n",
              "      <td>...</td>\n",
              "    </tr>\n",
              "    <tr>\n",
              "      <th>1097</th>\n",
              "      <td>0.0237</td>\n",
              "      <td>0.4440</td>\n",
              "      <td>-0.2914</td>\n",
              "      <td>-0.0247</td>\n",
              "      <td>-0.1992</td>\n",
              "      <td>-0.7115</td>\n",
              "      <td>-0.0195</td>\n",
              "      <td>-0.0702</td>\n",
              "      <td>-0.6116</td>\n",
              "      <td>0.1705</td>\n",
              "      <td>0.3232</td>\n",
              "      <td>-0.2610</td>\n",
              "      <td>-0.3365</td>\n",
              "      <td>-0.2840</td>\n",
              "      <td>0.1178</td>\n",
              "      <td>-0.0847</td>\n",
              "      <td>-0.015</td>\n",
              "      <td>-0.4868</td>\n",
              "      <td>0.0755</td>\n",
              "      <td>-0.0049</td>\n",
              "      <td>-0.5704</td>\n",
              "      <td>-0.1968</td>\n",
              "      <td>-0.3094</td>\n",
              "      <td>0.1393</td>\n",
              "      <td>0.1320</td>\n",
              "      <td>0.6363</td>\n",
              "      <td>-0.4872</td>\n",
              "      <td>-0.7265</td>\n",
              "      <td>0.1266</td>\n",
              "      <td>0.2021</td>\n",
              "      <td>0.0517</td>\n",
              "      <td>-0.0132</td>\n",
              "      <td>-0.1355</td>\n",
              "      <td>0.4101</td>\n",
              "      <td>0.2073</td>\n",
              "      <td>-0.1835</td>\n",
              "      <td>0.3665</td>\n",
              "      <td>0.8099</td>\n",
              "      <td>0.2506</td>\n",
              "      <td>0.0041</td>\n",
              "      <td>...</td>\n",
              "      <td>0.8631</td>\n",
              "      <td>-0.5359</td>\n",
              "      <td>0.0639</td>\n",
              "      <td>0.0830</td>\n",
              "      <td>0.1664</td>\n",
              "      <td>-0.3000</td>\n",
              "      <td>-0.1327</td>\n",
              "      <td>0.4196</td>\n",
              "      <td>0.4198</td>\n",
              "      <td>-0.0173</td>\n",
              "      <td>-0.6077</td>\n",
              "      <td>-0.1335</td>\n",
              "      <td>0.0652</td>\n",
              "      <td>-0.1701</td>\n",
              "      <td>0.1337</td>\n",
              "      <td>-0.3696</td>\n",
              "      <td>-0.5352</td>\n",
              "      <td>-0.3798</td>\n",
              "      <td>-0.1405</td>\n",
              "      <td>-0.3713</td>\n",
              "      <td>0.3762</td>\n",
              "      <td>-0.0842</td>\n",
              "      <td>-0.3845</td>\n",
              "      <td>-0.2439</td>\n",
              "      <td>-0.2334</td>\n",
              "      <td>-0.0760</td>\n",
              "      <td>0.0555</td>\n",
              "      <td>-0.1757</td>\n",
              "      <td>-0.0409</td>\n",
              "      <td>-0.8005</td>\n",
              "      <td>0.5787</td>\n",
              "      <td>-0.2063</td>\n",
              "      <td>0.0397</td>\n",
              "      <td>0.0145</td>\n",
              "      <td>-0.1987</td>\n",
              "      <td>-0.4739</td>\n",
              "      <td>0.3189</td>\n",
              "      <td>-0.0956</td>\n",
              "      <td>-0.6477</td>\n",
              "      <td>0.2389</td>\n",
              "    </tr>\n",
              "    <tr>\n",
              "      <th>1098</th>\n",
              "      <td>0.0237</td>\n",
              "      <td>0.4440</td>\n",
              "      <td>-0.2914</td>\n",
              "      <td>-0.0247</td>\n",
              "      <td>-0.1992</td>\n",
              "      <td>-0.7115</td>\n",
              "      <td>-0.0195</td>\n",
              "      <td>-0.0702</td>\n",
              "      <td>-0.6116</td>\n",
              "      <td>0.1705</td>\n",
              "      <td>0.3232</td>\n",
              "      <td>-0.2610</td>\n",
              "      <td>-0.3365</td>\n",
              "      <td>-0.2840</td>\n",
              "      <td>0.1178</td>\n",
              "      <td>-0.0847</td>\n",
              "      <td>-0.015</td>\n",
              "      <td>-0.4868</td>\n",
              "      <td>0.0755</td>\n",
              "      <td>-0.0049</td>\n",
              "      <td>-0.5704</td>\n",
              "      <td>-0.1968</td>\n",
              "      <td>-0.3094</td>\n",
              "      <td>0.1393</td>\n",
              "      <td>0.1320</td>\n",
              "      <td>0.6363</td>\n",
              "      <td>-0.4872</td>\n",
              "      <td>-0.7265</td>\n",
              "      <td>0.1266</td>\n",
              "      <td>0.2021</td>\n",
              "      <td>0.0517</td>\n",
              "      <td>-0.0132</td>\n",
              "      <td>-0.1355</td>\n",
              "      <td>0.4101</td>\n",
              "      <td>0.2073</td>\n",
              "      <td>-0.1835</td>\n",
              "      <td>0.3665</td>\n",
              "      <td>0.8099</td>\n",
              "      <td>0.2506</td>\n",
              "      <td>0.0041</td>\n",
              "      <td>...</td>\n",
              "      <td>0.8631</td>\n",
              "      <td>-0.5359</td>\n",
              "      <td>0.0639</td>\n",
              "      <td>0.0830</td>\n",
              "      <td>0.1664</td>\n",
              "      <td>-0.3000</td>\n",
              "      <td>-0.1327</td>\n",
              "      <td>0.4196</td>\n",
              "      <td>0.4198</td>\n",
              "      <td>-0.0173</td>\n",
              "      <td>-0.6077</td>\n",
              "      <td>-0.1335</td>\n",
              "      <td>0.0652</td>\n",
              "      <td>-0.1701</td>\n",
              "      <td>0.1337</td>\n",
              "      <td>-0.3696</td>\n",
              "      <td>-0.5352</td>\n",
              "      <td>-0.3798</td>\n",
              "      <td>-0.1405</td>\n",
              "      <td>-0.3713</td>\n",
              "      <td>0.3762</td>\n",
              "      <td>-0.0842</td>\n",
              "      <td>-0.3845</td>\n",
              "      <td>-0.2439</td>\n",
              "      <td>-0.2334</td>\n",
              "      <td>-0.0760</td>\n",
              "      <td>0.0555</td>\n",
              "      <td>-0.1757</td>\n",
              "      <td>-0.0409</td>\n",
              "      <td>-0.8005</td>\n",
              "      <td>0.5787</td>\n",
              "      <td>-0.2063</td>\n",
              "      <td>0.0397</td>\n",
              "      <td>0.0145</td>\n",
              "      <td>-0.1987</td>\n",
              "      <td>-0.4739</td>\n",
              "      <td>0.3189</td>\n",
              "      <td>-0.0956</td>\n",
              "      <td>-0.6477</td>\n",
              "      <td>0.2389</td>\n",
              "    </tr>\n",
              "    <tr>\n",
              "      <th>1099</th>\n",
              "      <td>0.0237</td>\n",
              "      <td>0.4440</td>\n",
              "      <td>-0.2914</td>\n",
              "      <td>-0.0247</td>\n",
              "      <td>-0.1992</td>\n",
              "      <td>-0.7115</td>\n",
              "      <td>-0.0195</td>\n",
              "      <td>-0.0702</td>\n",
              "      <td>-0.6116</td>\n",
              "      <td>0.1705</td>\n",
              "      <td>0.3232</td>\n",
              "      <td>-0.2610</td>\n",
              "      <td>-0.3365</td>\n",
              "      <td>-0.2840</td>\n",
              "      <td>0.1178</td>\n",
              "      <td>-0.0847</td>\n",
              "      <td>-0.015</td>\n",
              "      <td>-0.4868</td>\n",
              "      <td>0.0755</td>\n",
              "      <td>-0.0049</td>\n",
              "      <td>-0.5704</td>\n",
              "      <td>-0.1968</td>\n",
              "      <td>-0.3094</td>\n",
              "      <td>0.1393</td>\n",
              "      <td>0.1320</td>\n",
              "      <td>0.6363</td>\n",
              "      <td>-0.4872</td>\n",
              "      <td>-0.7265</td>\n",
              "      <td>0.1266</td>\n",
              "      <td>0.2021</td>\n",
              "      <td>0.0517</td>\n",
              "      <td>-0.0132</td>\n",
              "      <td>-0.1355</td>\n",
              "      <td>0.4101</td>\n",
              "      <td>0.2073</td>\n",
              "      <td>-0.1835</td>\n",
              "      <td>0.3665</td>\n",
              "      <td>0.8099</td>\n",
              "      <td>0.2506</td>\n",
              "      <td>0.0041</td>\n",
              "      <td>...</td>\n",
              "      <td>0.8631</td>\n",
              "      <td>-0.5359</td>\n",
              "      <td>0.0639</td>\n",
              "      <td>0.0830</td>\n",
              "      <td>0.1664</td>\n",
              "      <td>-0.3000</td>\n",
              "      <td>-0.1327</td>\n",
              "      <td>0.4196</td>\n",
              "      <td>0.4198</td>\n",
              "      <td>-0.0173</td>\n",
              "      <td>-0.6077</td>\n",
              "      <td>-0.1335</td>\n",
              "      <td>0.0652</td>\n",
              "      <td>-0.1701</td>\n",
              "      <td>0.1337</td>\n",
              "      <td>-0.3696</td>\n",
              "      <td>-0.5352</td>\n",
              "      <td>-0.3798</td>\n",
              "      <td>-0.1405</td>\n",
              "      <td>-0.3713</td>\n",
              "      <td>0.3762</td>\n",
              "      <td>-0.0842</td>\n",
              "      <td>-0.3845</td>\n",
              "      <td>-0.2439</td>\n",
              "      <td>-0.2334</td>\n",
              "      <td>-0.0760</td>\n",
              "      <td>0.0555</td>\n",
              "      <td>-0.1757</td>\n",
              "      <td>-0.0409</td>\n",
              "      <td>-0.8005</td>\n",
              "      <td>0.5787</td>\n",
              "      <td>-0.2063</td>\n",
              "      <td>0.0397</td>\n",
              "      <td>0.0145</td>\n",
              "      <td>-0.1987</td>\n",
              "      <td>-0.4739</td>\n",
              "      <td>0.3189</td>\n",
              "      <td>-0.0956</td>\n",
              "      <td>-0.6477</td>\n",
              "      <td>0.2389</td>\n",
              "    </tr>\n",
              "    <tr>\n",
              "      <th>1100</th>\n",
              "      <td>-0.0037</td>\n",
              "      <td>0.3689</td>\n",
              "      <td>-0.2008</td>\n",
              "      <td>-0.1512</td>\n",
              "      <td>-0.3990</td>\n",
              "      <td>-0.4620</td>\n",
              "      <td>-0.2440</td>\n",
              "      <td>-0.0032</td>\n",
              "      <td>-0.3513</td>\n",
              "      <td>0.2569</td>\n",
              "      <td>0.4171</td>\n",
              "      <td>-0.2227</td>\n",
              "      <td>-0.3729</td>\n",
              "      <td>-0.2133</td>\n",
              "      <td>0.1348</td>\n",
              "      <td>-0.1754</td>\n",
              "      <td>0.209</td>\n",
              "      <td>-0.5756</td>\n",
              "      <td>0.1564</td>\n",
              "      <td>0.0449</td>\n",
              "      <td>-0.4831</td>\n",
              "      <td>-0.1536</td>\n",
              "      <td>-0.1608</td>\n",
              "      <td>0.2013</td>\n",
              "      <td>0.0677</td>\n",
              "      <td>0.6837</td>\n",
              "      <td>-0.4663</td>\n",
              "      <td>-0.6510</td>\n",
              "      <td>0.1741</td>\n",
              "      <td>0.0410</td>\n",
              "      <td>0.0108</td>\n",
              "      <td>-0.2357</td>\n",
              "      <td>0.0946</td>\n",
              "      <td>0.4364</td>\n",
              "      <td>-0.1560</td>\n",
              "      <td>-0.0906</td>\n",
              "      <td>0.5337</td>\n",
              "      <td>0.9011</td>\n",
              "      <td>0.2116</td>\n",
              "      <td>-0.1612</td>\n",
              "      <td>...</td>\n",
              "      <td>0.9177</td>\n",
              "      <td>-0.7468</td>\n",
              "      <td>0.2432</td>\n",
              "      <td>-0.0011</td>\n",
              "      <td>0.4051</td>\n",
              "      <td>-0.2431</td>\n",
              "      <td>-0.1467</td>\n",
              "      <td>0.2970</td>\n",
              "      <td>0.6628</td>\n",
              "      <td>0.2653</td>\n",
              "      <td>-0.6316</td>\n",
              "      <td>-0.3084</td>\n",
              "      <td>-0.1036</td>\n",
              "      <td>-0.1227</td>\n",
              "      <td>0.4563</td>\n",
              "      <td>-0.5517</td>\n",
              "      <td>-0.5624</td>\n",
              "      <td>-0.1550</td>\n",
              "      <td>-0.1442</td>\n",
              "      <td>-0.1135</td>\n",
              "      <td>0.3335</td>\n",
              "      <td>0.0942</td>\n",
              "      <td>-0.4469</td>\n",
              "      <td>-0.2123</td>\n",
              "      <td>-0.2701</td>\n",
              "      <td>-0.2784</td>\n",
              "      <td>0.1104</td>\n",
              "      <td>-0.1560</td>\n",
              "      <td>0.1234</td>\n",
              "      <td>-0.5478</td>\n",
              "      <td>0.6571</td>\n",
              "      <td>-0.3451</td>\n",
              "      <td>-0.0169</td>\n",
              "      <td>0.0198</td>\n",
              "      <td>-0.2137</td>\n",
              "      <td>-0.5426</td>\n",
              "      <td>0.1744</td>\n",
              "      <td>-0.0020</td>\n",
              "      <td>-0.6275</td>\n",
              "      <td>0.2195</td>\n",
              "    </tr>\n",
              "    <tr>\n",
              "      <th>1101</th>\n",
              "      <td>-0.0037</td>\n",
              "      <td>0.3689</td>\n",
              "      <td>-0.2008</td>\n",
              "      <td>-0.1512</td>\n",
              "      <td>-0.3990</td>\n",
              "      <td>-0.4620</td>\n",
              "      <td>-0.2440</td>\n",
              "      <td>-0.0032</td>\n",
              "      <td>-0.3513</td>\n",
              "      <td>0.2569</td>\n",
              "      <td>0.4171</td>\n",
              "      <td>-0.2227</td>\n",
              "      <td>-0.3729</td>\n",
              "      <td>-0.2133</td>\n",
              "      <td>0.1348</td>\n",
              "      <td>-0.1754</td>\n",
              "      <td>0.209</td>\n",
              "      <td>-0.5756</td>\n",
              "      <td>0.1564</td>\n",
              "      <td>0.0449</td>\n",
              "      <td>-0.4831</td>\n",
              "      <td>-0.1536</td>\n",
              "      <td>-0.1608</td>\n",
              "      <td>0.2013</td>\n",
              "      <td>0.0677</td>\n",
              "      <td>0.6837</td>\n",
              "      <td>-0.4663</td>\n",
              "      <td>-0.6510</td>\n",
              "      <td>0.1741</td>\n",
              "      <td>0.0410</td>\n",
              "      <td>0.0108</td>\n",
              "      <td>-0.2357</td>\n",
              "      <td>0.0946</td>\n",
              "      <td>0.4364</td>\n",
              "      <td>-0.1560</td>\n",
              "      <td>-0.0906</td>\n",
              "      <td>0.5337</td>\n",
              "      <td>0.9011</td>\n",
              "      <td>0.2116</td>\n",
              "      <td>-0.1612</td>\n",
              "      <td>...</td>\n",
              "      <td>0.9177</td>\n",
              "      <td>-0.7468</td>\n",
              "      <td>0.2432</td>\n",
              "      <td>-0.0011</td>\n",
              "      <td>0.4051</td>\n",
              "      <td>-0.2431</td>\n",
              "      <td>-0.1467</td>\n",
              "      <td>0.2970</td>\n",
              "      <td>0.6628</td>\n",
              "      <td>0.2653</td>\n",
              "      <td>-0.6316</td>\n",
              "      <td>-0.3084</td>\n",
              "      <td>-0.1036</td>\n",
              "      <td>-0.1227</td>\n",
              "      <td>0.4563</td>\n",
              "      <td>-0.5517</td>\n",
              "      <td>-0.5624</td>\n",
              "      <td>-0.1550</td>\n",
              "      <td>-0.1442</td>\n",
              "      <td>-0.1135</td>\n",
              "      <td>0.3335</td>\n",
              "      <td>0.0942</td>\n",
              "      <td>-0.4469</td>\n",
              "      <td>-0.2123</td>\n",
              "      <td>-0.2701</td>\n",
              "      <td>-0.2784</td>\n",
              "      <td>0.1104</td>\n",
              "      <td>-0.1560</td>\n",
              "      <td>0.1234</td>\n",
              "      <td>-0.5478</td>\n",
              "      <td>0.6571</td>\n",
              "      <td>-0.3451</td>\n",
              "      <td>-0.0169</td>\n",
              "      <td>0.0198</td>\n",
              "      <td>-0.2137</td>\n",
              "      <td>-0.5426</td>\n",
              "      <td>0.1744</td>\n",
              "      <td>-0.0020</td>\n",
              "      <td>-0.6275</td>\n",
              "      <td>0.2195</td>\n",
              "    </tr>\n",
              "  </tbody>\n",
              "</table>\n",
              "<p>1102 rows × 100 columns</p>\n",
              "</div>"
            ],
            "text/plain": [
              "          0       1       2       3   ...      96      97      98      99\n",
              "0     0.0237  0.4440 -0.2914 -0.0247  ...  0.3189 -0.0956 -0.6477  0.2389\n",
              "1     0.0237  0.4440 -0.2914 -0.0247  ...  0.3189 -0.0956 -0.6477  0.2389\n",
              "2     0.0237  0.4440 -0.2914 -0.0247  ...  0.3189 -0.0956 -0.6477  0.2389\n",
              "3     0.0237  0.4440 -0.2914 -0.0247  ...  0.3189 -0.0956 -0.6477  0.2389\n",
              "4     0.0237  0.4440 -0.2914 -0.0247  ...  0.3189 -0.0956 -0.6477  0.2389\n",
              "...      ...     ...     ...     ...  ...     ...     ...     ...     ...\n",
              "1097  0.0237  0.4440 -0.2914 -0.0247  ...  0.3189 -0.0956 -0.6477  0.2389\n",
              "1098  0.0237  0.4440 -0.2914 -0.0247  ...  0.3189 -0.0956 -0.6477  0.2389\n",
              "1099  0.0237  0.4440 -0.2914 -0.0247  ...  0.3189 -0.0956 -0.6477  0.2389\n",
              "1100 -0.0037  0.3689 -0.2008 -0.1512  ...  0.1744 -0.0020 -0.6275  0.2195\n",
              "1101 -0.0037  0.3689 -0.2008 -0.1512  ...  0.1744 -0.0020 -0.6275  0.2195\n",
              "\n",
              "[1102 rows x 100 columns]"
            ]
          },
          "metadata": {
            "tags": []
          },
          "execution_count": 78
        }
      ]
    },
    {
      "cell_type": "code",
      "metadata": {
        "id": "4bbq3IHwMgQO",
        "colab_type": "code",
        "colab": {
          "base_uri": "https://localhost:8080/",
          "height": 102
        },
        "outputId": "fe107814-5276-48a0-a980-853a945ddeaa"
      },
      "source": [
        "#treinando o embedding com regressão logística\n",
        "modelo_embedding = LogisticRegression()\n",
        "modelo_embedding.fit(X_train_embedding, y_train_embedding)"
      ],
      "execution_count": 79,
      "outputs": [
        {
          "output_type": "execute_result",
          "data": {
            "text/plain": [
              "LogisticRegression(C=1.0, class_weight=None, dual=False, fit_intercept=True,\n",
              "                   intercept_scaling=1, l1_ratio=None, max_iter=100,\n",
              "                   multi_class='auto', n_jobs=None, penalty='l2',\n",
              "                   random_state=None, solver='lbfgs', tol=0.0001, verbose=0,\n",
              "                   warm_start=False)"
            ]
          },
          "metadata": {
            "tags": []
          },
          "execution_count": 79
        }
      ]
    },
    {
      "cell_type": "code",
      "metadata": {
        "id": "VL_DYmEDMoUo",
        "colab_type": "code",
        "colab": {}
      },
      "source": [
        "#para calcular as métricas é necessário calcular o y_pred\n",
        "y_pred = modelo_embedding.predict(X_test_embedding)"
      ],
      "execution_count": 80,
      "outputs": []
    },
    {
      "cell_type": "code",
      "metadata": {
        "id": "kbvRRIuzudZq",
        "colab_type": "code",
        "colab": {
          "base_uri": "https://localhost:8080/",
          "height": 306
        },
        "outputId": "93c46163-4ac0-4e8a-d633-d3982887e326"
      },
      "source": [
        "#valores de predição\n",
        "y_pred"
      ],
      "execution_count": 81,
      "outputs": [
        {
          "output_type": "execute_result",
          "data": {
            "text/plain": [
              "array([0, 0, 1, 0, 0, 0, 0, 0, 0, 0, 0, 0, 0, 0, 0, 0, 0, 0, 0, 0, 0, 0,\n",
              "       1, 0, 0, 0, 0, 0, 0, 0, 0, 0, 0, 0, 0, 0, 0, 0, 0, 0, 0, 0, 0, 0,\n",
              "       0, 0, 0, 0, 0, 0, 0, 0, 0, 0, 0, 0, 0, 0, 0, 0, 0, 0, 0, 0, 0, 0,\n",
              "       0, 0, 0, 0, 1, 0, 0, 0, 0, 0, 0, 0, 1, 0, 0, 0, 0, 1, 0, 0, 0, 0,\n",
              "       0, 0, 0, 1, 0, 0, 0, 0, 0, 0, 0, 1, 0, 0, 0, 0, 0, 0, 0, 0, 0, 1,\n",
              "       0, 0, 0, 0, 0, 0, 0, 0, 0, 0, 0, 0, 0, 0, 0, 0, 0, 1, 0, 0, 0, 0,\n",
              "       0, 0, 0, 0, 0, 0, 0, 0, 0, 0, 0, 0, 0, 0, 0, 0, 0, 0, 0, 0, 0, 0,\n",
              "       0, 0, 0, 0, 1, 0, 0, 0, 0, 0, 1, 0, 0, 0, 0, 0, 0, 0, 0, 0, 0, 0,\n",
              "       0, 0, 0, 0, 0, 0, 0, 0, 0, 0, 0, 0, 0, 0, 0, 0, 0, 1, 0, 0, 0, 0,\n",
              "       0, 1, 0, 0, 0, 0, 0, 0, 0, 0, 0, 0, 0, 0, 0, 0, 0, 0, 0, 0, 0, 0,\n",
              "       0, 0, 0, 0, 0, 0, 0, 0, 0, 0, 0, 0, 0, 0, 0, 0, 0, 0, 0, 0, 0, 0,\n",
              "       0, 0, 0, 1, 0, 0, 0, 0, 0, 0, 0, 0, 0, 0, 0, 0, 0, 0, 1, 0, 0, 0,\n",
              "       0, 0, 0, 0, 0, 0, 0, 1, 0, 0, 0, 0, 0, 0, 0, 0, 0, 0, 0, 0, 0, 0,\n",
              "       0, 1, 0, 0, 0, 0, 0, 0, 0, 0, 0, 0, 0, 0, 0, 0, 0, 0, 0, 0, 0, 0,\n",
              "       0, 0, 0, 0, 0, 0, 0, 0, 0, 0, 0, 0, 0, 0, 0, 0, 0, 0, 0, 0, 0, 0,\n",
              "       0, 0, 0, 0, 0, 0, 0, 1, 0, 0, 0, 0, 1, 0, 0, 0, 0, 0, 0, 0, 1, 0,\n",
              "       0, 0, 0, 0, 0, 0, 0, 0, 0, 0, 0, 0, 0, 0, 1, 0])"
            ]
          },
          "metadata": {
            "tags": []
          },
          "execution_count": 81
        }
      ]
    },
    {
      "cell_type": "code",
      "metadata": {
        "id": "-aP4jdOMuhBy",
        "colab_type": "code",
        "colab": {
          "base_uri": "https://localhost:8080/",
          "height": 221
        },
        "outputId": "111a282c-2e8b-4e66-8934-39a1c6d8ffd8"
      },
      "source": [
        "#valores originais\n",
        "y_test_embedding"
      ],
      "execution_count": 82,
      "outputs": [
        {
          "output_type": "execute_result",
          "data": {
            "text/plain": [
              "42      0\n",
              "76      0\n",
              "1380    1\n",
              "252     0\n",
              "388     0\n",
              "       ..\n",
              "683     0\n",
              "274     0\n",
              "701     0\n",
              "1410    1\n",
              "55      0\n",
              "Name: Resultado, Length: 368, dtype: int64"
            ]
          },
          "metadata": {
            "tags": []
          },
          "execution_count": 82
        }
      ]
    },
    {
      "cell_type": "code",
      "metadata": {
        "id": "PYooCUK-Mr84",
        "colab_type": "code",
        "colab": {
          "base_uri": "https://localhost:8080/",
          "height": 170
        },
        "outputId": "50271057-197d-48ca-db4c-c0572f88be6e"
      },
      "source": [
        "#aplicando o classification report para ter o valor de predição e de teste\n",
        "print(classification_report(y_test_embedding, y_pred))"
      ],
      "execution_count": 83,
      "outputs": [
        {
          "output_type": "stream",
          "text": [
            "              precision    recall  f1-score   support\n",
            "\n",
            "           0       1.00      1.00      1.00       347\n",
            "           1       1.00      1.00      1.00        21\n",
            "\n",
            "    accuracy                           1.00       368\n",
            "   macro avg       1.00      1.00      1.00       368\n",
            "weighted avg       1.00      1.00      1.00       368\n",
            "\n"
          ],
          "name": "stdout"
        }
      ]
    }
  ]
}